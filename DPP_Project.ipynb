{
 "cells": [
  {
   "cell_type": "code",
   "execution_count": 56,
   "metadata": {},
   "outputs": [],
   "source": [
    "import pandas as pd\n",
    "import math\n",
    "import numpy as np\n",
    "import queue as pythonQueue\n",
    "import networkx as nx\n",
    "import matplotlib \n",
    "import matplotlib.pyplot as plt\n",
    "import time\n",
    "import itertools\n",
    "from operator import itemgetter"
   ]
  },
  {
   "cell_type": "markdown",
   "metadata": {},
   "source": [
    "Definitions"
   ]
  },
  {
   "cell_type": "code",
   "execution_count": 2,
   "metadata": {},
   "outputs": [],
   "source": [
    "ATTRIBUTE_NAME = 0\n",
    "ATTRIBUTE_HEIGHT = 1"
   ]
  },
  {
   "cell_type": "markdown",
   "metadata": {},
   "source": [
    "Import data from file"
   ]
  },
  {
   "cell_type": "code",
   "execution_count": 3,
   "metadata": {},
   "outputs": [],
   "source": [
    "data = pd.read_csv('adult.data', header=0, sep=', ', engine='python' )\n",
    "\n",
    "# Move to lowercase\n",
    "data.columns = [col.lower() for col in data.columns]"
   ]
  },
  {
   "cell_type": "markdown",
   "metadata": {},
   "source": [
    "Drop these columns:\n",
    "- Fnlwgt\n",
    "- Education-num\n",
    "- Relationship\n",
    "- Capital gain\n",
    "- Capital loss\n",
    "- Hours-per-week"
   ]
  },
  {
   "cell_type": "code",
   "execution_count": 4,
   "metadata": {},
   "outputs": [],
   "source": [
    "data.drop(columns=['fnlwgt', 'education_num', 'relationship', 'capital_gain', 'capital_loss', 'hours_per_week'], inplace=True);"
   ]
  },
  {
   "cell_type": "markdown",
   "metadata": {},
   "source": [
    "Drop rows in which we have unknown values ('?')"
   ]
  },
  {
   "cell_type": "code",
   "execution_count": 5,
   "metadata": {},
   "outputs": [],
   "source": [
    "data.drop(data[\n",
    "                (data.workclass == '?') |\n",
    "                (data.education == '?') |\n",
    "                (data.marital_status == '?') |\n",
    "                (data.occupation == '?') |\n",
    "                (data.race == '?') |\n",
    "                (data.gender == '?') |\n",
    "                (data.native_country == '?') |\n",
    "                (data.salary == '?')].index, inplace=True);"
   ]
  },
  {
   "cell_type": "markdown",
   "metadata": {},
   "source": [
    "# Domain generalization\n",
    "\n",
    "For each remaining Q.I. and its corresponding domain, we define a generalization hierarchy, according to this (numbers in parenthesis corresponds to the height of the associated generalization hierarchy)\n",
    "\n",
    "- Age => 5-, 10-, 20- year ranges (4)\n",
    "- Workclass => Taxonomy tree (2)\n",
    "- Education =>  Taxonomy tree (2)\n",
    "- Marital status => Taxonomy tree (2)\n",
    "- Occupation => Taxonomy tree (2)\n",
    "- Race => Suppression (1)\n",
    "- Gender => Suppression (1)\n",
    "- Native country => Taxonomy tree (2)\n",
    "- Salary => Suppression (1)"
   ]
  },
  {
   "cell_type": "markdown",
   "metadata": {},
   "source": [
    "### Domain generalization for Age\n",
    "- 5- year ranges\n",
    "- 10- year ranges\n",
    "- 20- year ranges"
   ]
  },
  {
   "cell_type": "code",
   "execution_count": 6,
   "metadata": {},
   "outputs": [],
   "source": [
    "age = pd.DataFrame({'age_0' : np.sort(pd.unique(data['age']))})\n",
    "age['age_1'] = (age['age_0']/5).apply(math.floor)*5\n",
    "age['age_2'] = (age['age_0']/10).apply(math.floor)*10\n",
    "age['age_3'] = (age['age_0']/20).apply(math.floor)*20"
   ]
  },
  {
   "cell_type": "markdown",
   "metadata": {},
   "source": [
    "### Domain generalization for Workclass\n",
    "\n",
    "- Private => Private => Working\n",
    "- Self-emp-not-inc => Self-Emp => Working\n",
    "- Self-emp-inc => Self-Emp => Working\n",
    "- Federal-gov => Federal-gov => Working\n",
    "- Local-gov => Other-gov => Working\n",
    "- State-gov => Other-gov => Working\n",
    "- Without-pay => Not-Working => Not-Working\n",
    "- Never-worked => Not-Working => Not-Working"
   ]
  },
  {
   "cell_type": "code",
   "execution_count": 7,
   "metadata": {},
   "outputs": [],
   "source": [
    "workclass = pd.DataFrame({'workclass_0' : np.sort(pd.unique(data['workclass']))})\n",
    "\n",
    "workclass['workclass_1'] = workclass['workclass_0']\n",
    "workclass['workclass_1'].where(workclass['workclass_1'] != 'Self-emp-inc', 'Self-Emp', inplace=True)\n",
    "workclass['workclass_1'].where(workclass['workclass_1'] != 'Self-emp-not-inc', 'Self-Emp', inplace=True)\n",
    "workclass['workclass_1'].where(workclass['workclass_1'] != 'Local-gov', 'Other-gov', inplace=True)\n",
    "workclass['workclass_1'].where(workclass['workclass_1'] != 'State-gov', 'Other-gov', inplace=True)\n",
    "workclass['workclass_1'].where(workclass['workclass_1'] != 'Never-worked', 'Not-Working', inplace=True)\n",
    "workclass['workclass_1'].where(workclass['workclass_1'] != 'Without-pay', 'Not-Working', inplace=True)\n",
    "\n",
    "workclass['workclass_2'] = workclass['workclass_1']\n",
    "workclass['workclass_2'].where(workclass['workclass_2'] != 'Self-Emp', 'Working', inplace=True)\n",
    "workclass['workclass_2'].where(workclass['workclass_2'] != 'Federal-gov', 'Working', inplace=True)\n",
    "workclass['workclass_2'].where(workclass['workclass_2'] != 'Other-gov', 'Working', inplace=True)\n",
    "workclass['workclass_2'].where(workclass['workclass_2'] != 'Private', 'Working', inplace=True)"
   ]
  },
  {
   "cell_type": "markdown",
   "metadata": {},
   "source": [
    "### Domain generalization for Education\n",
    "\n",
    "- \"^10th\" => \"Dropout\" => \"Low\"\n",
    "\n",
    "- \"^11th\" => \"Dropout\" => \"Low\"\n",
    "\n",
    "- \"^12th\" => \"Dropout\" => \"Low\"\n",
    "\n",
    "- \"^1st-4th\" => \"Dropout\" => \"Low\"\n",
    "\n",
    "- \"^5th-6th\" => \"Dropout\" => \"Low\"\n",
    "\n",
    "- \"^7th-8th\" => \"Dropout\" => \"Low\"\n",
    "\n",
    "- \"^9th\" => \"Dropout\" => \"Low\"\n",
    "\n",
    "- \"^Preschool\" => \"Dropout\" => \"Low\"\n",
    "\n",
    "- \"^Assoc-acdm\" => \"Associates\" => \"High\"\n",
    "\n",
    "- \"^Assoc-voc\" => \"Associates\" => \"High\"\n",
    "\n",
    "- \"^Bachelors\" => \"Bachelors\" => \"High\"\n",
    "\n",
    "- \"^Doctorate\" => \"Doctorate\" => \"High\"\n",
    "\n",
    "- \"^HS-Grad\" => \"HS-Graduate\" => \"High\"\n",
    "\n",
    "- \"^Masters\" => \"Masters\" => \"High\"\n",
    "\n",
    "- \"^Prof-school\" => \"Prof-School\" => \"High\"\n",
    "\n",
    "- \"^Some-college\" => \"HS-Graduate\" => \"High\"\n"
   ]
  },
  {
   "cell_type": "code",
   "execution_count": 8,
   "metadata": {},
   "outputs": [],
   "source": [
    "education = pd.DataFrame({'education_0' : np.sort(pd.unique(data['education']))})\n",
    "\n",
    "education['education_1'] = education['education_0']\n",
    "education['education_1'].where(education['education_1'] != '10th', 'Dropout', inplace=True)\n",
    "education['education_1'].where(education['education_1'] != '11th', 'Dropout', inplace=True)\n",
    "education['education_1'].where(education['education_1'] != '12th', 'Dropout', inplace=True)\n",
    "education['education_1'].where(education['education_1'] != '1st-4th', 'Dropout', inplace=True)\n",
    "education['education_1'].where(education['education_1'] != '5th-6th', 'Dropout', inplace=True)\n",
    "education['education_1'].where(education['education_1'] != '7th-8th', 'Dropout', inplace=True)\n",
    "education['education_1'].where(education['education_1'] != '9th', 'Dropout', inplace=True)\n",
    "education['education_1'].where(education['education_1'] != 'Preschool', 'Dropout', inplace=True)\n",
    "education['education_1'].where(education['education_1'] != 'Assoc-voc', 'Associates', inplace=True)\n",
    "education['education_1'].where(education['education_1'] != 'Assoc-acdm', 'Associates', inplace=True)\n",
    "education['education_1'].where(education['education_1'] != 'HS-grad', 'HS-Graduate', inplace=True)\n",
    "education['education_1'].where(education['education_1'] != 'Some-college', 'HS-Graduate', inplace=True)\n",
    "\n",
    "education['education_2'] = education['education_1']\n",
    "education['education_2'].where(education['education_2'] != 'Dropout', 'Low', inplace=True)\n",
    "education['education_2'].where(education['education_2'] != 'Prof-school', 'High', inplace=True)\n",
    "education['education_2'].where(education['education_2'] != 'Associates', 'High', inplace=True)\n",
    "education['education_2'].where(education['education_2'] != 'Bachelors', 'High', inplace=True)\n",
    "education['education_2'].where(education['education_2'] != 'Masters', 'High', inplace=True)\n",
    "education['education_2'].where(education['education_2'] != 'HS-Graduate', 'High', inplace=True)\n",
    "education['education_2'].where(education['education_2'] != 'Doctorate', 'High', inplace=True)"
   ]
  },
  {
   "cell_type": "markdown",
   "metadata": {},
   "source": [
    "### Domain generalization for Marital status\n",
    "\n",
    "- Widowed => Widowed => Married\n",
    "- Divorced => Not-Married => Not-Married\n",
    "- Married-AF-spouse => Married => Married\n",
    "- Separated => Not-Married => Not-Married\n",
    "- Married-spouse-absent => Not-Married => Not-Married\n",
    "- Married-civ-spouse => Married => Married\n",
    "- Never-married => Never-Married => Not-Married"
   ]
  },
  {
   "cell_type": "code",
   "execution_count": 9,
   "metadata": {},
   "outputs": [],
   "source": [
    "marital_status = pd.DataFrame({'marital_status_0' : np.sort(pd.unique(data['marital_status']))})\n",
    "\n",
    "marital_status['marital_status_1'] = marital_status['marital_status_0']\n",
    "marital_status['marital_status_1'].where(marital_status['marital_status_1'] != 'Divorced', 'Not-Married', inplace=True)\n",
    "marital_status['marital_status_1'].where(marital_status['marital_status_1'] != 'Married-AF-spouse', 'Married', inplace=True)\n",
    "marital_status['marital_status_1'].where(marital_status['marital_status_1'] != 'Separated', 'Not-Married', inplace=True)\n",
    "marital_status['marital_status_1'].where(marital_status['marital_status_1'] != 'Married-spouse-absent', 'Not-Married', inplace=True)\n",
    "marital_status['marital_status_1'].where(marital_status['marital_status_1'] != 'Married-civ-spouse', 'Married', inplace=True)\n",
    "\n",
    "marital_status['marital_status_2'] = marital_status['marital_status_1']\n",
    "marital_status['marital_status_2'].where(marital_status['marital_status_2'] != 'Widowed', 'Married', inplace=True)\n",
    "marital_status['marital_status_2'].where(marital_status['marital_status_2'] != 'Never-married', 'Not-Married', inplace=True)"
   ]
  },
  {
   "cell_type": "markdown",
   "metadata": {},
   "source": [
    "### Domain generalization for Occupation\n",
    "- Adm-clerical => Admin => A\n",
    "- Armed-Forces => Military => A\n",
    "- Craft-repair => Blue-Collar => B\n",
    "- Exec-managerial => White-Collar => A\n",
    "- Farming-fishing => Blue-Collar => B\n",
    "- Handlers-cleaners => Blue-Collar => B\n",
    "- Machine-op-inspct => Blue-Collar => B\n",
    "- Other-service => Service => B\n",
    "- Priv-house-serv => Service => B\n",
    "- Prof-specialty => Other-Occupations => A\n",
    "- Protective-serv => Other-Occupations => A\n",
    "- Sales => Sales => B\n",
    "- Tech-support => Other-Occupations => A\n",
    "- Transport-moving => Other-Occupations => A"
   ]
  },
  {
   "cell_type": "code",
   "execution_count": 10,
   "metadata": {},
   "outputs": [],
   "source": [
    "occupation = pd.DataFrame({'occupation_0' : np.sort(pd.unique(data['occupation']))})\n",
    "\n",
    "occupation['occupation_1'] = occupation['occupation_0']\n",
    "occupation['occupation_1'].where(occupation['occupation_1'] != 'Adm-clerical', 'Admin', inplace=True)\n",
    "occupation['occupation_1'].where(occupation['occupation_1'] != 'Armed-Forces', 'Military', inplace=True)\n",
    "occupation['occupation_1'].where(occupation['occupation_1'] != 'Craft-repair', 'Blue-Collar', inplace=True)\n",
    "occupation['occupation_1'].where(occupation['occupation_1'] != 'Exec-managerial', 'White-Collar', inplace=True)\n",
    "occupation['occupation_1'].where(occupation['occupation_1'] != 'Farming-fishing', 'Blue-Collar', inplace=True)\n",
    "occupation['occupation_1'].where(occupation['occupation_1'] != 'Handlers-cleaners', 'Blue-Collar', inplace=True)\n",
    "occupation['occupation_1'].where(occupation['occupation_1'] != 'Machine-op-inspct', 'Blue-Collar', inplace=True)\n",
    "occupation['occupation_1'].where(occupation['occupation_1'] != 'Other-service', 'Service', inplace=True)\n",
    "occupation['occupation_1'].where(occupation['occupation_1'] != 'Priv-house-serv', 'Service', inplace=True)\n",
    "occupation['occupation_1'].where(occupation['occupation_1'] != 'Prof-specialty', 'Other-Occupations', inplace=True)\n",
    "occupation['occupation_1'].where(occupation['occupation_1'] != 'Protective-serv', 'Other-Occupations', inplace=True)\n",
    "occupation['occupation_1'].where(occupation['occupation_1'] != 'Tech-support', 'Other-Occupations', inplace=True)\n",
    "occupation['occupation_1'].where(occupation['occupation_1'] != 'Transport-moving', 'Other-Occupations', inplace=True)\n",
    "\n",
    "occupation['occupation_2'] = occupation['occupation_1']\n",
    "occupation['occupation_2'].where(occupation['occupation_2'] != 'Military', 'A', inplace=True)\n",
    "occupation['occupation_2'].where(occupation['occupation_2'] != 'Sales', 'B', inplace=True)\n",
    "occupation['occupation_2'].where(occupation['occupation_2'] != 'Admin', 'A', inplace=True)\n",
    "occupation['occupation_2'].where(occupation['occupation_2'] != 'White-Collar', 'A', inplace=True)\n",
    "occupation['occupation_2'].where(occupation['occupation_2'] != 'Other-Occupations', 'A', inplace=True)\n",
    "occupation['occupation_2'].where(occupation['occupation_2'] != 'Service', 'B', inplace=True)\n",
    "occupation['occupation_2'].where(occupation['occupation_2'] != 'Blue-Collar', 'B', inplace=True)"
   ]
  },
  {
   "cell_type": "markdown",
   "metadata": {},
   "source": [
    "### Domain generalization for Race\n",
    "Based on suppression"
   ]
  },
  {
   "cell_type": "code",
   "execution_count": 11,
   "metadata": {},
   "outputs": [],
   "source": [
    "race = pd.DataFrame({'race_0' : np.sort(pd.unique(data['race']))})\n",
    "\n",
    "race['race_1'] = race['race_0']\n",
    "race['race_1'].where(race['race_1'] != race['race_1'], '*', inplace=True)"
   ]
  },
  {
   "cell_type": "markdown",
   "metadata": {},
   "source": [
    "### Domain generalization for Gender\n",
    "\n",
    "Based on suppression"
   ]
  },
  {
   "cell_type": "code",
   "execution_count": 12,
   "metadata": {},
   "outputs": [],
   "source": [
    "gender = pd.DataFrame({'gender_0' : np.sort(pd.unique(data['gender']))})\n",
    "\n",
    "gender['gender_1'] = gender['gender_0']\n",
    "gender['gender_1'].where(gender['gender_1'] != gender['gender_1'], '*', inplace=True)"
   ]
  },
  {
   "cell_type": "markdown",
   "metadata": {},
   "source": [
    "### Domain generalization for Native Country\n",
    "\n",
    "- Cambodia => SE-Asia => Asia\n",
    "- Canada => British-Commonwealth => British-Commonwealth   \n",
    "- China => Asia => Asia\n",
    "- Columbia => South-America => South-America\n",
    "- Cuba => Latin-America => South-America\n",
    "- Dominican-Republic => Latin-America => South-America\n",
    "- Ecuador => South-America => South-America\n",
    "- El-Salvador => South-America => South-America\n",
    "- England => British-Commonwealth => British-Commonwealth\n",
    "- France => Euro_1 => Europe\n",
    "- Germany => Euro_1 => Europe\n",
    "- Greece => Euro_2 => Europe\n",
    "- Guatemala => Latin-America => South-America\n",
    "- Haiti => Latin-America => South-America\n",
    "- Holand-Netherlands => Euro_1 => Europe\n",
    "- Honduras => Latin-America => South-America\n",
    "- Hong => Asia => Asia\n",
    "- Hungary => Euro_2 => Europe\n",
    "- India => British-Commonwealth => British-Commonwealth\n",
    "- Iran => Asia => Asia\n",
    "- Ireland => British-Commonwealth => British-Commonwealth\n",
    "- Italy => Euro_1 => Europe\n",
    "- Jamaica => Latin-America => South-America\n",
    "- Japan => Asia => Asia\n",
    "- Laos => SE-Asia => Asia\n",
    "- Mexico => Latin-America => South-America\n",
    "- Nicaragua => Latin-America => South-America\n",
    "- Outlying-US(Guam-USVI-etc) => Latin-America => South-America\n",
    "- Peru => South-America => South-America\n",
    "- Philippines => SE-Asia => Asia\n",
    "- Poland => Euro_2 => Europe\n",
    "- Portugal => Euro_2 => Europe\n",
    "- Puerto-Rico => Latin-America => South-America\n",
    "- Scotland => British-Commonwealth => British-Commonwealth\n",
    "- South => Euro_2 => Europe\n",
    "- Taiwan => Asia => Asia\n",
    "- Thailand => SE-Asia => Asia\n",
    "- Trinadad&Tobago => Latin-America => South-America\n",
    "- United-States => United-States => United-States\n",
    "- Vietnam => SE-Asia => Asia\n",
    "- Yugoslavia => Euro_2 => Europe"
   ]
  },
  {
   "cell_type": "code",
   "execution_count": 13,
   "metadata": {},
   "outputs": [],
   "source": [
    "native_country = pd.DataFrame({'native_country_0' : np.sort(pd.unique(data['native_country']))})\n",
    "\n",
    "native_country['native_country_1'] = native_country['native_country_0']\n",
    "\n",
    "native_country['native_country_1'].where(native_country['native_country_1'] != 'Cambodia', 'SE-Asia', inplace=True)\n",
    "native_country['native_country_1'].where(native_country['native_country_1'] != 'Canada', 'British-Commonwealth', inplace=True)\n",
    "native_country['native_country_1'].where(native_country['native_country_1'] != 'China', 'Asia', inplace=True)\n",
    "native_country['native_country_1'].where(native_country['native_country_1'] != 'Columbia', 'South-America', inplace=True)\n",
    "native_country['native_country_1'].where(native_country['native_country_1'] != 'Cuba', 'Latin-America', inplace=True)\n",
    "native_country['native_country_1'].where(native_country['native_country_1'] != 'Dominican-Republic', 'Latin-America', inplace=True)\n",
    "native_country['native_country_1'].where(native_country['native_country_1'] != 'Ecuador', 'South-America', inplace=True)\n",
    "native_country['native_country_1'].where(native_country['native_country_1'] != 'El-Salvador', 'South-America', inplace=True)\n",
    "native_country['native_country_1'].where(native_country['native_country_1'] != 'England', 'British-Commonwealth', inplace=True)\n",
    "native_country['native_country_1'].where(native_country['native_country_1'] != 'France', 'Euro_1', inplace=True)\n",
    "native_country['native_country_1'].where(native_country['native_country_1'] != 'Germany', 'Euro_1', inplace=True)\n",
    "native_country['native_country_1'].where(native_country['native_country_1'] != 'Greece', 'Euro_2', inplace=True)\n",
    "native_country['native_country_1'].where(native_country['native_country_1'] != 'Guatemala', 'Latin-America', inplace=True)\n",
    "native_country['native_country_1'].where(native_country['native_country_1'] != 'Haiti', 'Latin-America', inplace=True)\n",
    "native_country['native_country_1'].where(native_country['native_country_1'] != 'Holand-Netherlands', 'Euro_1', inplace=True)\n",
    "native_country['native_country_1'].where(native_country['native_country_1'] != 'Honduras', 'Latin-America', inplace=True)\n",
    "native_country['native_country_1'].where(native_country['native_country_1'] != 'Hong', 'Asia', inplace=True)\n",
    "native_country['native_country_1'].where(native_country['native_country_1'] != 'Hungary', 'Euro_2', inplace=True)\n",
    "native_country['native_country_1'].where(native_country['native_country_1'] != 'India', 'British-Commonwealth', inplace=True)\n",
    "native_country['native_country_1'].where(native_country['native_country_1'] != 'Iran', 'Asia', inplace=True)\n",
    "native_country['native_country_1'].where(native_country['native_country_1'] != 'Ireland', 'British-Commonwealth', inplace=True)\n",
    "native_country['native_country_1'].where(native_country['native_country_1'] != 'Italy', 'Euro_1', inplace=True)\n",
    "native_country['native_country_1'].where(native_country['native_country_1'] != 'Jamaica', 'Latin-America', inplace=True)\n",
    "native_country['native_country_1'].where(native_country['native_country_1'] != 'Japan', 'Asia', inplace=True)\n",
    "native_country['native_country_1'].where(native_country['native_country_1'] != 'Laos', 'SE-Asia', inplace=True)\n",
    "native_country['native_country_1'].where(native_country['native_country_1'] != 'Mexico', 'Latin-America', inplace=True)\n",
    "native_country['native_country_1'].where(native_country['native_country_1'] != 'Nicaragua', 'Latin-America', inplace=True)\n",
    "native_country['native_country_1'].where(native_country['native_country_1'] != 'Outlying-US(Guam-USVI-etc)', 'Latin-America', inplace=True)\n",
    "native_country['native_country_1'].where(native_country['native_country_1'] != 'Peru', 'South-America', inplace=True)\n",
    "native_country['native_country_1'].where(native_country['native_country_1'] != 'Philippines', 'SE-Asia', inplace=True)\n",
    "native_country['native_country_1'].where(native_country['native_country_1'] != 'Poland', 'Euro_2', inplace=True)\n",
    "native_country['native_country_1'].where(native_country['native_country_1'] != 'Portugal', 'Euro_2', inplace=True)\n",
    "native_country['native_country_1'].where(native_country['native_country_1'] != 'Puerto-Rico', 'Latin-America', inplace=True)\n",
    "native_country['native_country_1'].where(native_country['native_country_1'] != 'Scotland', 'British-Commonwealth', inplace=True)\n",
    "native_country['native_country_1'].where(native_country['native_country_1'] != 'South', 'Euro_2', inplace=True)\n",
    "native_country['native_country_1'].where(native_country['native_country_1'] != 'Taiwan', 'Asia', inplace=True)\n",
    "native_country['native_country_1'].where(native_country['native_country_1'] != 'Thailand', 'SE-Asia', inplace=True)\n",
    "native_country['native_country_1'].where(native_country['native_country_1'] != 'Trinadad&Tobago', 'Latin-America', inplace=True)\n",
    "native_country['native_country_1'].where(native_country['native_country_1'] != 'Vietnam', 'SE-Asia', inplace=True)\n",
    "native_country['native_country_1'].where(native_country['native_country_1'] != 'Yugoslavia', 'Euro_2', inplace=True)\n",
    "\n",
    "native_country['native_country_2'] = native_country['native_country_1']\n",
    "native_country['native_country_2'].where(native_country['native_country_2'] != 'Euro_1', 'Europe', inplace=True)\n",
    "native_country['native_country_2'].where(native_country['native_country_2'] != 'Euro_2', 'Europe', inplace=True)\n",
    "native_country['native_country_2'].where(native_country['native_country_2'] != 'SE-Asia', 'Asia', inplace=True)\n",
    "native_country['native_country_2'].where(native_country['native_country_2'] != 'Latin-America', 'South-America', inplace=True)"
   ]
  },
  {
   "cell_type": "markdown",
   "metadata": {},
   "source": [
    "### Domain generalization for Salary\n",
    "\n",
    "Based on suppression"
   ]
  },
  {
   "cell_type": "code",
   "execution_count": 14,
   "metadata": {},
   "outputs": [],
   "source": [
    "salary = pd.DataFrame({'salary_0' : np.sort(pd.unique(data['salary']))})\n",
    "\n",
    "salary['salary_1'] = salary['salary_0']\n",
    "salary['salary_1'].where(salary['salary_1'] != salary['salary_1'], '*', inplace=True)"
   ]
  },
  {
   "cell_type": "markdown",
   "metadata": {},
   "source": [
    "### Domains to array"
   ]
  },
  {
   "cell_type": "code",
   "execution_count": 15,
   "metadata": {
    "scrolled": false
   },
   "outputs": [],
   "source": [
    "dimensions = {}\n",
    "dimensions['age']=age\n",
    "dimensions['workclass'] = workclass\n",
    "dimensions['education']=education\n",
    "dimensions['marital_status']=marital_status\n",
    "dimensions['occupation']=occupation\n",
    "dimensions['race']=race\n",
    "dimensions['gender']=gender\n",
    "dimensions['native_country']=native_country\n",
    "dimensions['salary']=salary\n",
    "#data_concat = data\n",
    "\n",
    "data_concat = pd.DataFrame()\n",
    "for dimension in dimensions:\n",
    "    data_concat = pd.concat([data_concat, dimensions[dimension]], axis=1)"
   ]
  },
  {
   "cell_type": "markdown",
   "metadata": {},
   "source": [
    "### Graph utilities"
   ]
  },
  {
   "cell_type": "markdown",
   "metadata": {},
   "source": [
    "### Graph definition\n",
    "Each node of the graph is a generalization. A node is a tuple of tuples (tuple_1, tuple_2, ..., tuple_n).\n",
    "Each tuple_i is composed as (Attribute_name, Attribute_generalization).\n",
    "Ex. (('Age', 0), ('Sex', 0)) is a generalization with respect to columns age_0, sex_0"
   ]
  },
  {
   "cell_type": "code",
   "execution_count": 16,
   "metadata": {},
   "outputs": [],
   "source": [
    "def generate_graph_0(Q, dimensions):\n",
    "    G = nx.DiGraph()\n",
    "    for dimension_name in Q:\n",
    "        prev = None\n",
    "        height = 0\n",
    "        for _ in dimensions[dimension_name].columns:\n",
    "            l = [(dimension_name, height)]\n",
    "            #Convert the list to tuple to make it hashable\n",
    "            current_node = tuple(l)\n",
    "            \n",
    "            if prev is not None:\n",
    "                #from ((age, 0)) to ((age, 1)), then ((age,1)) to ((age, 2))\n",
    "                G.add_edge(prev, current_node)\n",
    "                \n",
    "            height = height + 1\n",
    "            prev = current_node\n",
    "    \n",
    "    return G"
   ]
  },
  {
   "cell_type": "code",
   "execution_count": 17,
   "metadata": {},
   "outputs": [],
   "source": [
    "def printGraph(G):\n",
    "    #print(\"G nodes:\")\n",
    "    for node in G.nodes():\n",
    "        print(node)\n",
    "\n",
    "def plotGraph(G):\n",
    "    labels = {node:str(node) for node in G.nodes()}\n",
    "    plt.figure(figsize=(15,8))\n",
    "    nx.draw(G, with_labels=True, labels=labels)\n",
    "    plt.plot()            "
   ]
  },
  {
   "cell_type": "markdown",
   "metadata": {},
   "source": [
    "# Incognito algorithm"
   ]
  },
  {
   "cell_type": "code",
   "execution_count": 18,
   "metadata": {},
   "outputs": [],
   "source": [
    "def difference(A, B):\n",
    "    result = sorted([item for item in A if item not in B])\n",
    "    return tuple(result)\n",
    "\n",
    "def sortAlphaTup(tup):\n",
    "    x = \"\"\n",
    "    for i in range(0, len(tup)):\n",
    "        x += str(tup[i][0])\n",
    "    return x"
   ]
  },
  {
   "cell_type": "code",
   "execution_count": 19,
   "metadata": {},
   "outputs": [],
   "source": [
    "def frequencySet_standard(T, Q, generalizations):\n",
    "    # Add each name of attribute in T the level _0 since it is level 0 generalization:\n",
    "    #  this way it can easily use the groupby   \n",
    "    tmpT = T.copy()\n",
    "    tmpT.columns = [str(col) + '_0' for col in tmpT.columns]\n",
    "    \n",
    "    #print(\"Asked fset of T\", tmpT.columns, \"on Q\", Q)\n",
    "    \n",
    "    for attribute in Q:\n",
    "        #Extract generalization height from string\n",
    "        attribute_height = int(attribute[len(attribute)-1])\n",
    "        #print(\"attr height\", attribute_height)\n",
    "        \n",
    "        # If it is not level 0 generalization, join with the corresponding dimension table\n",
    "        # It will never happen that in Q there will be two level of the same domain, i dont need to control it\n",
    "        if not attribute_height == 0:\n",
    "            attribute_name = attribute[:len(attribute)-2]\n",
    "            #print(\"attr name\", attribute_name)\n",
    "            # find corresponding height of this attribute in T\n",
    "            for t_col in tmpT.columns:\n",
    "                if t_col[:len(t_col)-2] == attribute_name:\n",
    "                    correspondingHeightInT = int(t_col[len(t_col)-1])\n",
    "\n",
    "            tmpT = tmpT.set_index(attribute_name+'_'+str(correspondingHeightInT))\\\n",
    "            .join(generalizations[attribute_name][[attribute_name+'_'+str(attribute_height),\n",
    "                                                          attribute_name+'_'+str(correspondingHeightInT)]].drop_duplicates()\\\n",
    "                          .set_index(attribute_name+'_'+str(correspondingHeightInT)))\n",
    "            \n",
    "    if (len(tmpT.columns) == len(Q)):\n",
    "        tmpT['RandomColumn'] = tmpT.iloc[:,:1]\n",
    "        \n",
    "    fsSet = tmpT.groupby(Q).count().reset_index()\n",
    "    fsSet = fsSet.iloc[:, :(len(Q)+1)]\n",
    "    fsSet.rename({fsSet.columns[(len(Q))] : 'Count'}, axis='columns', inplace=True)\n",
    "    \n",
    "    return fsSet"
   ]
  },
  {
   "cell_type": "code",
   "execution_count": 20,
   "metadata": {},
   "outputs": [],
   "source": [
    "def frequencySet_fromParent(T, Q, generalizations):\n",
    "    #print(\"Asked fset of T\", T.columns, \"on Q\", Q)\n",
    "    \n",
    "    tmpT = T.copy()\n",
    "    \n",
    "    for attribute in Q:\n",
    "        #Extract generalization height from string\n",
    "        attribute_height = int(attribute[len(attribute)-1])\n",
    "        # If it is not level 0 generalization, join with the corresponding dimension table\n",
    "        # It will never happen that in Q there will be two level of the same domain, i dont need to control it\n",
    "        if not attribute_height == 0:\n",
    "            attribute_name = attribute[:len(attribute)-2]\n",
    "            # find corresponding height of this attribute in T\n",
    "            for t_col in tmpT.columns:\n",
    "                if t_col[:len(t_col)-2] == attribute_name:\n",
    "                    correspondingHeightInT = int(t_col[len(t_col)-1])\n",
    "            \n",
    "            \n",
    "            if not correspondingHeightInT == attribute_height:\n",
    "            \n",
    "                tmpT = pd.merge(tmpT, generalizations[attribute_name][[attribute_name+'_'+str(attribute_height),\n",
    "                                                          attribute_name+'_'+str(correspondingHeightInT)]].drop_duplicates(),\n",
    "                               on=attribute_name+'_'+str(correspondingHeightInT))\\\n",
    "                .drop(labels=attribute_name+'_'+str(correspondingHeightInT), axis=1)\n",
    "                \n",
    "    fsSet = tmpT.groupby(Q)['Count'].sum().reset_index()\n",
    "    fsSet = fsSet.iloc[:, :(len(Q)+1)]\n",
    "    return fsSet"
   ]
  },
  {
   "cell_type": "code",
   "execution_count": 21,
   "metadata": {},
   "outputs": [],
   "source": [
    "def frequencySet_fromParent_cube(T, Q):\n",
    "    # T is already a frequencySet, Q is a list of attributes\n",
    "    # CONSTRAINT: Q must have #columns = (#columns of T - 1) and all the columns in Q must be in T, T must have Count column\n",
    "    tmpT = T.copy() \n",
    "    fsSet = T.groupby(Q)['Count'].sum().reset_index()\n",
    "    fsSet = fsSet.iloc[:, :(len(Q)+1)]\n",
    "    return fsSet"
   ]
  },
  {
   "cell_type": "code",
   "execution_count": 22,
   "metadata": {},
   "outputs": [],
   "source": [
    "def computeK(frequencySet):\n",
    "    return min(frequencySet['Count'])"
   ]
  },
  {
   "cell_type": "markdown",
   "metadata": {},
   "source": [
    "#### Generate attributes list.  For each attribute, include all its generalizations. \n",
    "Ex. if current node is age_1, we shoud group by age_1, age_2 and age_3 because the latter ones will be needed in next iterations in parentFrequencySet. Of course group by(age_1) has the same number of rows of group by (age_1, age_2, age_3)"
   ]
  },
  {
   "cell_type": "code",
   "execution_count": 23,
   "metadata": {},
   "outputs": [],
   "source": [
    "def getAllAttributesGeneralizations(node, generalizations):\n",
    "    attributesOfNode = list()\n",
    "    for attribute in list(node):\n",
    "            attributeGeneralizaiton = generalizations[attribute[ATTRIBUTE_NAME]]\n",
    "            \n",
    "            for i in range(attribute[ATTRIBUTE_HEIGHT], len(attributeGeneralizaiton.columns)):\n",
    "                attributesOfNode.append(\"{}_{}\".format(attribute[ATTRIBUTE_NAME], i))\n",
    "                \n",
    "    return attributesOfNode"
   ]
  },
  {
   "cell_type": "code",
   "execution_count": 24,
   "metadata": {},
   "outputs": [],
   "source": [
    "def getNodeAttributes(node):\n",
    "    attributesOfNode = list()\n",
    "    for attribute in node:\n",
    "        attributesOfNode.append(\"{}_{}\".format(attribute[ATTRIBUTE_NAME], attribute[ATTRIBUTE_HEIGHT]))\n",
    "    return attributesOfNode"
   ]
  },
  {
   "cell_type": "code",
   "execution_count": 25,
   "metadata": {},
   "outputs": [],
   "source": [
    "def getNodeHeight(node):\n",
    "        height = 0\n",
    "        for nodeAttr in node:\n",
    "            #print(nodeAttr, \"is attribute of \", node)\n",
    "            height = height + nodeAttr[ATTRIBUTE_HEIGHT]\n",
    "        return height"
   ]
  },
  {
   "cell_type": "code",
   "execution_count": 26,
   "metadata": {},
   "outputs": [],
   "source": [
    "def fromListToNode(L):\n",
    "    attributeList = list()\n",
    "    for element in L:\n",
    "        attribute_height = int(element[len(element)-1])\n",
    "        attribute_name = element[:len(element)-2]\n",
    "        attributeList.append((attribute_name, attribute_height))\n",
    "    return tuple(attributeList)"
   ]
  },
  {
   "cell_type": "code",
   "execution_count": 27,
   "metadata": {},
   "outputs": [],
   "source": [
    "def generateGraph(C_i):\n",
    "    G = nx.DiGraph()\n",
    "    new_edges = pd.DataFrame()\n",
    "    df = pd.DataFrame(list(C_i.nodes()))\n",
    "    num_columns = len(df.columns)\n",
    "    \n",
    "    last_x = str(num_columns-1)+'_x'\n",
    "    last_y = str(num_columns-1)+'_y'\n",
    "    if (num_columns > 1):\n",
    "        \n",
    "        df_key = df.copy()\n",
    "        df_key = df_key.drop(columns=[num_columns-1])\n",
    "        df_key = df_key.apply(tuple, axis=1)\n",
    "        \n",
    "        df_parent = df.copy()\n",
    "        df_parent = df_parent.apply(tuple, axis=1)\n",
    "                \n",
    "        df2 = df.copy()\n",
    "\n",
    "        df['key'] = df_key\n",
    "        df2['key'] = df_key\n",
    "        df['parent_x'] = df_parent #list(zip(df['key'], df[last_x]))\n",
    "        df2['parent_y'] = df_parent #list(zip(df2['key'], df2[last_y]))\n",
    "        nodes = df.merge(df2, on='key', how='inner')\n",
    "        nodes = nodes[['key', str(num_columns-1)+'_x', str(num_columns-1)+'_y', 'parent_x', 'parent_y']]\n",
    "        nodes2 = pd.DataFrame()\n",
    "        for index, row in nodes.iterrows():\n",
    "            if (row[last_x][0] < row[last_y][0]):\n",
    "                nodes2 = nodes2.append(row)\n",
    "                #l = [row['key'], row[last_x], row[last_y]]\n",
    "                l = row['parent_x'] + tuple([row[last_y]])\n",
    "                G.add_node(l)\n",
    "        nodes2 = nodes2.reset_index(drop=True) \n",
    "    else:\n",
    "        df['key'] = 0\n",
    "        df2 = df.copy()\n",
    "        nodes = df.merge(df2, on='key', how='outer')\n",
    "        nodes2 = pd.DataFrame()\n",
    "        for index, row in nodes.iterrows():\n",
    "            if (row['0_x'][0] < row['0_y'][0]):\n",
    "                nodes2 = nodes2.append(row)\n",
    "                l = [row['0_x'], row['0_y']]\n",
    "                G.add_node(tuple(l))\n",
    "        \n",
    "        nodes2 = nodes2.reset_index(drop=True)\n",
    "    \n",
    "    edges = pd.DataFrame()\n",
    "    for a, b in C_i.edges():\n",
    "        if (num_columns) > 1:\n",
    "            edges = edges.append({'start': a, 'end': b}, ignore_index=True)\n",
    "        else:\n",
    "            edges = edges.append({'start': a[0], 'end': b[0]}, ignore_index=True)\n",
    "    if len(edges) == 0:\n",
    "        return G\n",
    "    for i, node in nodes2.iterrows():\n",
    "        if (i >= 0):\n",
    "            if node['key'] != 0:\n",
    "                cond1_1 = edges[edges['start'] == node['parent_x']].reset_index(drop=True)\n",
    "                cond1_2 = edges[edges['start'] == node['parent_y']].reset_index(drop=True)\n",
    "            else:\n",
    "                cond1_1 = edges[edges['start'] == node[last_x]].reset_index(drop=True)\n",
    "                cond1_2 = edges[edges['start'] == node[last_y]].reset_index(drop=True)\n",
    "            if node['key'] == 0:\n",
    "                if len(cond1_1) > 0:\n",
    "                    cond2 = nodes2[nodes2[last_x] == cond1_1['end'][0]]\n",
    "                    cond2 = cond2[cond2[last_y] == node[last_y]].reset_index(drop=True)\n",
    "                    if len(cond2) > 0 and node[last_y] == cond2[last_y][0] and node[last_x] != cond2[last_x][0]:\n",
    "                        n1 = [node[last_x], node[last_y]]\n",
    "                        n2 = [cond2[last_x][0], cond2[last_y][0]]\n",
    "                        G.add_edge(tuple(n1), tuple(n2))\n",
    "\n",
    "                if len(cond1_2) > 0:\n",
    "                    cond3 = nodes2[nodes2[last_y] == cond1_2['end'][0]]\n",
    "                    cond3 = cond3[cond3[last_x] == node[last_x]].reset_index(drop=True)\n",
    "                    if len(cond3) > 0 and node[last_x] == cond3[last_x][0] and node[last_y] != cond3[last_y][0]:\n",
    "                        n1 = [node[last_x], node[last_y]]\n",
    "                        n2 = [cond3[last_x][0], cond3[last_y][0]]\n",
    "                        G.add_edge(tuple(n1), tuple(n2))\n",
    "            else:\n",
    "                cond1 = pd.DataFrame()\n",
    "                cond1_1aux = cond1_1.copy()\n",
    "                cond1_1aux = cond1_1aux.rename(columns={'end': 'parent_x'})\n",
    "                condaux = nodes2.merge(cond1_1aux, on='parent_x', how='inner')\n",
    "                cond2aux = condaux[condaux['parent_y'] == node['parent_y']].reset_index(drop=True)\n",
    "                for j in range(0, len(cond2aux)):\n",
    "                    n1 = node['parent_x'] + tuple([node[last_y]])\n",
    "                    n2 = cond2aux['parent_x'][j] + tuple([cond2aux[last_y][j]])\n",
    "                    #G.add_edge(tuple(n1), tuple(n2))\n",
    "                    new_edges = new_edges.append({'start': n1, 'end': n2}, ignore_index=True)\n",
    "                \n",
    "                cond1_2aux = cond1_2.copy()\n",
    "                cond1_2aux = cond1_2aux.rename(columns={'end': 'parent_y'})\n",
    "                condaux2 = nodes2.merge(cond1_2aux, on='parent_y', how='inner')\n",
    "                cond3aux = condaux2[condaux2['parent_x'] == node['parent_x']].reset_index(drop=True)\n",
    "                for j in range(0, len(cond3aux)):\n",
    "                    n1 = node['parent_x'] + tuple([node[last_y]])\n",
    "                    n2 = cond3aux['parent_x'][j] + tuple([cond3aux[last_y][j]])\n",
    "                    #G.add_edge(tuple(n1), tuple(n2))\n",
    "                    new_edges = new_edges.append({'start': n1, 'end': n2}, ignore_index=True)\n",
    "                \n",
    "                condaux2 = condaux2[['parent_x', 'parent_y']]\n",
    "                cond1 = condaux.merge(condaux2, on=['parent_x', 'parent_y'], how='inner')\n",
    "                for j in range(0, len(cond1)):\n",
    "                    n1 = node['parent_x'] + tuple([node[last_y]])\n",
    "                    n2 = cond1['parent_x'][j] + tuple([cond1[last_y][j]])\n",
    "                    new_edges = new_edges.append({'start': n1, 'end': n2}, ignore_index=True)\n",
    "               \n",
    "    if len(new_edges) >0:\n",
    "        remove_edges = new_edges.copy()\n",
    "        remove_edges = remove_edges.rename(columns={'end': 'end2'})\n",
    "        remove_edges = remove_edges.rename(columns={'start': 'end'})\n",
    "        remove_edges = remove_edges.merge(new_edges, on='end', how='inner')\n",
    "        remove_edges = remove_edges.drop(columns=['end'])\n",
    "        remove_edges = remove_edges.rename(columns={'end2': 'end'})\n",
    "        common = new_edges.merge(remove_edges,on=['start','end'])\n",
    "        new_edges = pd.concat([new_edges, common]).drop_duplicates(keep=False)\n",
    "        for index, edge in new_edges.iterrows():\n",
    "            G.add_edge(tuple(edge['start']), tuple(edge['end']))\n",
    "\n",
    "    #printGraph(G)\n",
    "\n",
    "    return G"
   ]
  },
  {
   "cell_type": "code",
   "execution_count": 28,
   "metadata": {},
   "outputs": [],
   "source": [
    "def incognito_standard (k, T, Q, generalizations):\n",
    "    \n",
    "    queue = pythonQueue.PriorityQueue()\n",
    "    \n",
    "    # Must be initialized outside the for since will be both shared between iterations...\n",
    "    C_i = generate_graph_0(Q, generalizations) # Graph (C_i, E_i) at iteration i\n",
    "    S_i = None\n",
    "    sink = list((node for node, out_degree in C_i.out_degree() if out_degree == 0))[0]\n",
    "    frequencySetDictionary = {}\n",
    "    \n",
    "    for i in range(0, len(Q)):\n",
    "        # It is not a problem if we copy the whole graph instead of copying\n",
    "        #  only the nodes since every time we use S_i we delete nodes, and\n",
    "        #  therefore we also delete edges attached to these nodes\n",
    "        S_i = C_i.copy()\n",
    "        marked = set()\n",
    "\n",
    "        # Insert all roots node into queue, keeping queue sorted by height\n",
    "        for node in C_i.nodes():\n",
    "            if C_i.in_degree(node) == 0:\n",
    "                height = getNodeHeight(node)\n",
    "                # First parameter is height, second is data\n",
    "                queue.put((height, node))\n",
    "        \n",
    "        while not queue.empty():\n",
    "            height, node = queue.get()\n",
    "            \n",
    "            if node not in marked and node in S_i.nodes():\n",
    "                attributesOfNode = getNodeAttributes(node)\n",
    "                # if node was initally a root\n",
    "                if C_i.in_degree(node) == 0:\n",
    "                    frequencySet = frequencySet_standard(T, attributesOfNode, generalizations)\n",
    "                else:\n",
    "                    frequencySetParent = frequencySetDictionary[node]\n",
    "                    frequencySet = frequencySet_fromParent(frequencySetParent, attributesOfNode, generalizations)\n",
    "                                        \n",
    "                actual_k = computeK(frequencySet)\n",
    "\n",
    "                # If T is k-anonymous with respect to attributes of node\n",
    "                if (actual_k >= k):\n",
    "                    # mark all direct generalizations of node\n",
    "                    for generalizationPath in nx.all_simple_paths(S_i, source=node, target=sink):\n",
    "                        for pathNode in generalizationPath:\n",
    "                            #print(\"marked node\", pathNode)\n",
    "                            marked.add(pathNode)\n",
    "                else:\n",
    "                    # Set childs frequency set to this one                    \n",
    "                    for generalizationPath in nx.all_simple_paths(S_i, source=node, target=sink):\n",
    "                        for pathNode in generalizationPath:\n",
    "                            if not pathNode == node: \n",
    "                                frequencySetDictionary[pathNode] = frequencySet\n",
    "                                height = getNodeHeight (pathNode)\n",
    "                                queue.put((height, pathNode))\n",
    "                            \n",
    "                    S_i.remove_node(node)\n",
    "                    \n",
    "        C_i = generateGraph(S_i)\n",
    "    return S_i"
   ]
  },
  {
   "cell_type": "code",
   "execution_count": 29,
   "metadata": {},
   "outputs": [],
   "source": [
    "def incognito_super_root (k, T, Q, generalizations):\n",
    "    queue = pythonQueue.PriorityQueue()\n",
    "    \n",
    "    # Must be initialized outside the for since will be both shared between iterations...\n",
    "    C_i = generate_graph_0(Q, generalizations) # Graph (C_i, E_i) at iteration i\n",
    "    S_i = None\n",
    "    sink = list((node for node, out_degree in C_i.out_degree() if out_degree == 0))[0]\n",
    "    frequencySetDictionary = {}\n",
    "    \n",
    "    for z in range(0, len(Q)):\n",
    "        # It is not a problem if we copy the whole graph instead of copying\n",
    "        #  only the nodes since every time we use S_i we delete nodes, and\n",
    "        #  therefore we also delete edges attached to these nodes\n",
    "        S_i = C_i.copy()\n",
    "        marked = set()\n",
    "\n",
    "        #set containing roots\n",
    "        rootSet = set()\n",
    "        \n",
    "        # Insert all roots node into queue, keeping queue sorted by height\n",
    "        for node in C_i.nodes():\n",
    "            if C_i.in_degree(node) == 0:\n",
    "                # Order the content of nodes and add it to rootSet\n",
    "                rootSet.add(tuple(sorted(node)))\n",
    "                height = getNodeHeight(node)\n",
    "                # First parameter is height, second is data\n",
    "                queue.put((height, node))\n",
    "        \n",
    "        # Order also list of nodes in rootSet\n",
    "        rootSet = sorted(rootSet, key=lambda tup: sortAlphaTup(tup))\n",
    "        \n",
    "        # Given a set of roots, try to find if there are common ancestors of some of them and compute freqSet at level 0\n",
    "        familyFound = False\n",
    "        familyCount = 0 \n",
    "        \n",
    "        if (len(rootSet) == 1):\n",
    "            frequencySetDictionary[rootSet[0]] = frequencySet_standard(T, getNodeAttributes(rootSet[0]), generalizations)\n",
    "        else:\n",
    "            for i in range(1, len(rootSet)):\n",
    "                sameFamilyAsBefore = True\n",
    "\n",
    "                # If nodes contain tuples of different length then they don't come from the same family \n",
    "                if not (len(rootSet[i]) == len(rootSet[i-1])):\n",
    "                    sameFamilyAsBefore = False    \n",
    "                else:\n",
    "                    # If nodes have tuples of the same length, then check if they have the same attributes\n",
    "                    for j in range(0, len(rootSet[i])):\n",
    "                        if not (rootSet[i-1][j][0] == rootSet[i][j][0]):\n",
    "                            sameFamilyAsBefore = False\n",
    "\n",
    "                # If current node has the same attributes as the one before, then add 1 to the number of members in the family\n",
    "                if sameFamilyAsBefore:\n",
    "                    familyFound = True\n",
    "                    familyCount +=1\n",
    "                    \n",
    "                    # If current node is also the last one to be analyzed, then it is the last one in the family => compute freqSet\n",
    "                    if (i == (len(rootSet)-1)):\n",
    "                        familyAttributes = list()\n",
    "                        for l in range(len(rootSet[i-1])):\n",
    "                            familyAttributes.append(str(rootSet[i-1][l][ATTRIBUTE_NAME]) + \"_0\")\n",
    "\n",
    "                        familyFreqSet = frequencySet_standard(T, familyAttributes, generalizations)\n",
    "\n",
    "                        for l in range((i - familyCount), (i+1)):\n",
    "                            frequencySetDictionary[rootSet[l]] = frequencySet_fromParent(familyFreqSet, getNodeAttributes(rootSet[l]), dimensions)\n",
    "                \n",
    "                # If current node doesnt have the same attributes of the one before:\n",
    "                else:\n",
    "                    # If we had found a family, then compute freqSet (until the previous node in the list)\n",
    "                    if familyFound:\n",
    "                        familyCount += 1\n",
    "                        familyAttributes = list()\n",
    "                        for l in range(len(rootSet[i-1])):\n",
    "                            familyAttributes.append(str(rootSet[i-1][l][ATTRIBUTE_NAME]) + \"_0\")\n",
    "\n",
    "                        familyFreqSet = frequencySet_standard(T, familyAttributes, generalizations)\n",
    "\n",
    "                        for l in range((i - familyCount), (i)):\n",
    "                            frequencySetDictionary[rootSet[l]] = frequencySet_fromParent(familyFreqSet, getNodeAttributes(rootSet[l]), dimensions)\n",
    "                            \n",
    "                    else:\n",
    "                        frequencySetDictionary[rootSet[i-1]] = frequencySet_standard(T, getNodeAttributes(rootSet[i-1]), generalizations)\n",
    "\n",
    "                        if (i == (len(rootSet)-1)):\n",
    "                            frequencySetDictionary[rootSet[i]] = frequencySet_standard(T, getNodeAttributes(rootSet[i]), generalizations)\n",
    "                                                        \n",
    "                    familyFound = False\n",
    "                    familyCount = 0\n",
    "                \n",
    "        while not queue.empty():\n",
    "            height, node = queue.get()\n",
    "            if node not in marked and node in S_i.nodes():\n",
    "                attributesOfNode = getNodeAttributes(node)\n",
    "                # if node was initally a root\n",
    "                if C_i.in_degree(node) == 0:\n",
    "                    frequencySet = frequencySetDictionary[node]\n",
    "                else:\n",
    "                    frequencySetParent = frequencySetDictionary[node]\n",
    "                    frequencySet = frequencySet_fromParent(frequencySetParent, attributesOfNode, generalizations)\n",
    "                    \n",
    "                actual_k = computeK(frequencySet)\n",
    "                \n",
    "                # If T is k-anonymous with respect to attributes of node\n",
    "                if (actual_k >= k):\n",
    "                    # mark all direct generalizations of node\n",
    "                    for generalizationPath in nx.all_simple_paths(S_i, source=node, target=sink):\n",
    "                        for pathNode in generalizationPath:\n",
    "                            marked.add(pathNode)\n",
    "                else:\n",
    "                    # Set childs frequency set to this one                    \n",
    "                    for generalizationPath in nx.all_simple_paths(S_i, source=node, target=sink):\n",
    "                        for pathNode in generalizationPath:\n",
    "                            if not pathNode == node: \n",
    "                                frequencySetDictionary[pathNode] = frequencySet\n",
    "                                height = getNodeHeight (pathNode)\n",
    "                                queue.put((height, pathNode))\n",
    "                            \n",
    "                    S_i.remove_node(node)\n",
    "                    \n",
    "                    \n",
    "        C_i = generateGraph(S_i)\n",
    "    return S_i    "
   ]
  },
  {
   "cell_type": "code",
   "execution_count": 30,
   "metadata": {},
   "outputs": [],
   "source": [
    "def cube_incognito (k, T, Q, generalizations):\n",
    "    queue = pythonQueue.PriorityQueue()\n",
    "    \n",
    "    # Must be initialized outside the for since will be both shared between iterations...\n",
    "    C_i = generate_graph_0(Q, generalizations) # Graph (C_i, E_i) at iteration i\n",
    "    S_i = None\n",
    "    sink = list((node for node, out_degree in C_i.out_degree() if out_degree == 0))[0]\n",
    "    frequencySetDictionary = {}\n",
    "    \n",
    "    cubeQ_top = sorted([str(attribute) + '_0' for attribute in Q])\n",
    "    frequencySetDictionary[fromListToNode(cubeQ_top)] = frequencySet_standard(T, getNodeAttributes(fromListToNode(cubeQ_top)), generalizations)\n",
    "        \n",
    "    for i in range(len(Q)-1, 0, -1):\n",
    "        cubeQ_list = list(itertools.combinations(cubeQ_top, i))\n",
    "        for cubeQ in cubeQ_list:\n",
    "            tempDiff = list()\n",
    "            tempDiff.append(difference(cubeQ_top, cubeQ)[0])\n",
    "            cubeQ_tmp = sorted(cubeQ + tuple(tempDiff))\n",
    "            frequencySetDictionary[fromListToNode(cubeQ)] = frequencySet_fromParent_cube(frequencySetDictionary[fromListToNode(cubeQ_tmp)], cubeQ)\n",
    "    \n",
    "    for z in range(0, len(Q)):\n",
    "        # It is not a problem if we copy the whole graph instead of copying\n",
    "        #  only the nodes since every time we use S_i we delete nodes, and\n",
    "        #  therefore we also delete edges attached to these nodes\n",
    "        S_i = C_i.copy()\n",
    "        marked = set()\n",
    "\n",
    "        #set containing roots\n",
    "        rootSet = set()\n",
    "        \n",
    "        # Insert all roots node into queue, keeping queue sorted by height\n",
    "        for node in C_i.nodes():\n",
    "            if C_i.in_degree(node) == 0:\n",
    "                # Order the content of nodes and add it to rootSet\n",
    "                rootSet.add(tuple(sorted(node)))\n",
    "                height = getNodeHeight(node)\n",
    "                # First parameter is height, second is data\n",
    "                queue.put((height, node))\n",
    "        \n",
    "        # Order also list of nodes in rootSet\n",
    "        rootSet = sorted(rootSet, key=lambda tup: sortAlphaTup(tup))\n",
    "        \n",
    "        # Given a set of roots, try to find if there are common ancestors of some of them and compute freqSet at level 0\n",
    "        familyFound = False\n",
    "        familyCount = 0 \n",
    "        \n",
    "        if (len(rootSet) == 1):\n",
    "            frequencySetDictionary[rootSet[0]] = frequencySet_standard(T, getNodeAttributes(rootSet[0]), generalizations)\n",
    "        else:\n",
    "            for i in range(1, len(rootSet)):\n",
    "                sameFamilyAsBefore = True\n",
    "\n",
    "                # If nodes contain tuples of different length then they don't come from the same family                 \n",
    "                if not (len(rootSet[i]) == len(rootSet[i-1])):\n",
    "                    sameFamilyAsBefore = False    \n",
    "                else:\n",
    "                    # If nodes have tuples of the same length, then check if they have the same attributes\n",
    "                    for j in range(0, len(rootSet[i])):\n",
    "                        if not (rootSet[i-1][j][0] == rootSet[i][j][0]):\n",
    "                            sameFamilyAsBefore = False\n",
    "\n",
    "                # If current node has the same attributes as the one before, then add 1 to the number of members in the family\n",
    "                if sameFamilyAsBefore:\n",
    "                    familyFound = True\n",
    "                    familyCount +=1\n",
    "                    \n",
    "                    # If current node is also the last one to be analyzed, then it is the last one in the family => compute freqSet\n",
    "                    if (i == (len(rootSet)-1)):\n",
    "                        familyAttributes = list()\n",
    "                        for l in range(len(rootSet[i-1])):\n",
    "                            familyAttributes.append(str(rootSet[i-1][l][ATTRIBUTE_NAME]) + \"_0\")\n",
    "\n",
    "                        #familyFreqSet = frequencySet_standard(T, familyAttributes, generalizations)\n",
    "                        familyFreqSet = frequencySetDictionary[fromListToNode(familyAttributes)]\n",
    "\n",
    "                        for l in range((i - familyCount), (i+1)):\n",
    "                            frequencySetDictionary[rootSet[l]] = frequencySet_fromParent(familyFreqSet, getNodeAttributes(rootSet[l]), dimensions)\n",
    "                \n",
    "                # If current node doesnt have the same attributes of the one before:\n",
    "                else:\n",
    "                    # If we had found a family, then compute freqSet (until the previous node in the list)\n",
    "                    if familyFound:\n",
    "                        familyCount += 1\n",
    "                        familyAttributes = list()\n",
    "                        for l in range(len(rootSet[i-1])):\n",
    "                            familyAttributes.append(str(rootSet[i-1][l][ATTRIBUTE_NAME]) + \"_0\")\n",
    "\n",
    "                        #familyFreqSet = frequencySet_standard(T, familyAttributes, generalizations)\n",
    "                        familyFreqSet = frequencySetDictionary[fromListToNode(familyAttributes)]\n",
    "                        for l in range((i - familyCount), (i)):\n",
    "                            frequencySetDictionary[rootSet[l]] = frequencySet_fromParent(familyFreqSet, getNodeAttributes(rootSet[l]), dimensions)\n",
    "                            \n",
    "                    else:\n",
    "                        frequencySetDictionary[rootSet[i-1]] = frequencySet_standard(T, getNodeAttributes(rootSet[i-1]), generalizations)\n",
    "\n",
    "                        if (i == (len(rootSet)-1)):\n",
    "                            frequencySetDictionary[rootSet[i]] = frequencySet_standard(T, getNodeAttributes(rootSet[i]), generalizations)\n",
    "                                                        \n",
    "                    familyFound = False\n",
    "                    familyCount = 0\n",
    "                \n",
    "        while not queue.empty():\n",
    "            height, node = queue.get()\n",
    "            if node not in marked and node in S_i.nodes():\n",
    "                attributesOfNode = getNodeAttributes(node)\n",
    "                # if node was initally a root\n",
    "                if C_i.in_degree(node) == 0:\n",
    "                    frequencySet = frequencySetDictionary[node]\n",
    "                else:\n",
    "                    frequencySetParent = frequencySetDictionary[node]\n",
    "                    frequencySet = frequencySet_fromParent(frequencySetParent, attributesOfNode, generalizations)\n",
    "                    \n",
    "                actual_k = computeK(frequencySet)\n",
    "                \n",
    "                # If T is k-anonymous with respect to attributes of node\n",
    "                if (actual_k >= k):\n",
    "                    # mark all direct generalizations of node\n",
    "                    for generalizationPath in nx.all_simple_paths(S_i, source=node, target=sink):\n",
    "                        for pathNode in generalizationPath:\n",
    "                            marked.add(pathNode)\n",
    "                else:\n",
    "                    # Set childs frequency set to this one                    \n",
    "                    for generalizationPath in nx.all_simple_paths(S_i, source=node, target=sink):\n",
    "                        for pathNode in generalizationPath:\n",
    "                            if not pathNode == node: \n",
    "                                frequencySetDictionary[pathNode] = frequencySet\n",
    "                                height = getNodeHeight (pathNode)\n",
    "                                queue.put((height, pathNode))\n",
    "                            \n",
    "                    S_i.remove_node(node)\n",
    "                    \n",
    "                    \n",
    "        C_i = generateGraph(S_i)\n",
    "    return S_i      "
   ]
  },
  {
   "cell_type": "markdown",
   "metadata": {},
   "source": [
    "# Tests\n",
    "\n",
    "Some code to do tests and similar"
   ]
  },
  {
   "cell_type": "code",
   "execution_count": 74,
   "metadata": {
    "scrolled": false
   },
   "outputs": [
    {
     "name": "stdout",
     "output_type": "stream",
     "text": [
      "standard\n",
      "\n",
      "superroot\n",
      "\n",
      "cube\n"
     ]
    }
   ],
   "source": [
    "QI = ['age', 'workclass', 'education', 'marital_status', 'race', 'gender']\n",
    "\n",
    "print(\"standard\")\n",
    "result_standard = incognito_standard(2, data, QI, dimensions)\n",
    "#printGraph(result_standard)\n",
    "\n",
    "print(\"\\nsuperroot\")\n",
    "result_super_root = incognito_super_root(2, data, QI, dimensions)\n",
    "#printGraph(result_super_root)\n",
    "\n",
    "print(\"\\ncube\")\n",
    "result_cube = cube_incognito(2, data, QI, dimensions)\n",
    "#printGraph(result_cube)"
   ]
  },
  {
   "cell_type": "code",
   "execution_count": 78,
   "metadata": {
    "scrolled": false
   },
   "outputs": [
    {
     "data": {
      "text/plain": [
       "<matplotlib.legend.Legend at 0x7f46d78f6470>"
      ]
     },
     "execution_count": 78,
     "metadata": {},
     "output_type": "execute_result"
    },
    {
     "data": {
      "image/png": "[encoded data removed]",
      "text/plain": [
       "<matplotlib.figure.Figure at 0x7f46e0757898>"
      ]
     },
     "metadata": {},
     "output_type": "display_data"
    }
   ],
   "source": [
    "paper_data_x = [3,4,5,6,7,8,9]\n",
    "paper_data_superRoot_K_2 = [0,0,0,1,2,4,12]\n",
    "paper_data_cube_K_2 = [0,0,0,1,2,6,16]\n",
    "paper_data_standard_K_2 = [0,0,0,1.5,3.5,8, 19]\n",
    "\n",
    "plt.figure(figsize=(15,8))\n",
    "plt.grid()\n",
    "plt.plot(paper_data_x, paper_data_standard_K_2, '^-', label='Standard')\n",
    "plt.plot(paper_data_x, paper_data_cube_K_2, 'o-', label='Cube Incognito')\n",
    "plt.plot(paper_data_x, paper_data_superRoot_K_2, '+-', label='Super-roots incognito')\n",
    "plt.title(\"Adults database (k=2) - Paper results\")\n",
    "plt.ylabel(\"Elapsed Time (minutes)\")\n",
    "plt.xlabel(\"Quasi-Identifier Size\")\n",
    "plt.legend()"
   ]
  },
  {
   "cell_type": "code",
   "execution_count": 77,
   "metadata": {},
   "outputs": [
    {
     "data": {
      "text/plain": [
       "<matplotlib.legend.Legend at 0x7f46d79146d8>"
      ]
     },
     "execution_count": 77,
     "metadata": {},
     "output_type": "execute_result"
    },
    {
     "data": {
      "image/png": "[encoded data removed]",
      "text/plain": [
       "<matplotlib.figure.Figure at 0x7f46d5330208>"
      ]
     },
     "metadata": {},
     "output_type": "display_data"
    }
   ],
   "source": [
    "paper_data_x = [3,4,5,6,7,8,9]\n",
    "\n",
    "paper_data_superRoot_K_10 = [0,0,0,1,2,4.5,10]\n",
    "paper_data_cube_K_10 = [0,0,0,1,2,5,12]\n",
    "paper_data_standard_K_10 = [0,0,0,1.5,3,7, 17]\n",
    "\n",
    "plt.figure(figsize=(15,8))\n",
    "plt.grid()\n",
    "plt.plot(paper_data_x, paper_data_standard_K_10, '^-', label='Standard')\n",
    "plt.plot(paper_data_x, paper_data_cube_K_10, 'o-', label='Cube Incognito')\n",
    "plt.plot(paper_data_x, paper_data_superRoot_K_10, '+-', label='Super-roots incognito')\n",
    "plt.title(\"Adults database (k=10) - Paper results\")\n",
    "plt.ylabel(\"Elapsed Time (minutes)\")\n",
    "plt.xlabel(\"Quasi-Identifier Size\")\n",
    "plt.legend()"
   ]
  },
  {
   "cell_type": "code",
   "execution_count": 68,
   "metadata": {},
   "outputs": [
    {
     "name": "stdout",
     "output_type": "stream",
     "text": [
      "standard done\n",
      "superRoot done\n",
      "cube done\n"
     ]
    }
   ],
   "source": [
    "def time_incognito(k, data, Q, dimensions, algorithm):\n",
    "    stats = list()\n",
    "    for i in range(3, len(Q)+1):\n",
    "    #for i in range(3,4):\n",
    "        tmpQ = Q[:i]\n",
    "        start = time.time()\n",
    "        algorithm(k, data, tmpQ, dimensions)\n",
    "        end = time.time()\n",
    "        stats.append(end-start)\n",
    "    return stats    \n",
    "\n",
    "Q = ['age', 'workclass', 'education', 'marital_status', 'occupation', 'race', 'gender', 'native_country', 'salary']        \n",
    "\n",
    "our_data_standard_K_10 = time_incognito(10, data, Q, dimensions, incognito_standard)\n",
    "print(\"standard done\")\n",
    "our_data_superRoot_K_10 = time_incognito(10, data, Q, dimensions, incognito_super_root)\n",
    "print(\"superRoot done\")\n",
    "our_data_cube_K_10 = time_incognito(10, data, Q, dimensions, cube_incognito)\n",
    "print(\"cube done\")\n",
    "\n",
    "our_data_standard_K_2 = time_incognito(2, data, Q, dimensions, incognito_standard)\n",
    "print(\"standard done\")\n",
    "our_data_superRoot_K_2 = time_incognito(2, data, Q, dimensions, incognito_super_root)\n",
    "print(\"superRoot done\")\n",
    "our_data_cube_K_2 = time_incognito(2, data, Q, dimensions, cube_incognito)\n",
    "print(\"cube done\")"
   ]
  },
  {
   "cell_type": "code",
   "execution_count": 76,
   "metadata": {},
   "outputs": [
    {
     "data": {
      "text/plain": [
       "<matplotlib.legend.Legend at 0x7f46d7077d30>"
      ]
     },
     "execution_count": 76,
     "metadata": {},
     "output_type": "execute_result"
    },
    {
     "data": {
      "image/png": "[encoded data removed]",
      "text/plain": [
       "<matplotlib.figure.Figure at 0x7f46e0457f98>"
      ]
     },
     "metadata": {},
     "output_type": "display_data"
    }
   ],
   "source": [
    "plt.figure(figsize=(15,8))\n",
    "plt.grid()\n",
    "plt.plot(paper_data_x, our_data_standard_K_10, '^-', label='Standard')\n",
    "plt.plot(paper_data_x, our_data_cube_K_10, 'o-', label='Cube Incognito')\n",
    "plt.plot(paper_data_x, our_data_superRoot_K_10, '+-', label='Super-roots incognito')\n",
    "plt.title(\"Adults database (k=10)\")\n",
    "plt.ylabel(\"Elapsed Time (seconds)\")\n",
    "plt.xlabel(\"Quasi-Identifier Size\")\n",
    "plt.legend()"
   ]
  },
  {
   "cell_type": "code",
   "execution_count": 71,
   "metadata": {},
   "outputs": [
    {
     "name": "stdout",
     "output_type": "stream",
     "text": [
      "[0.8181362152099609, 4.446078300476074, 17.06165623664856, 47.01350688934326, 134.4464099407196, 396.84931349754333, 1338.4568572044373]\n",
      "[0.7896542549133301, 3.4080288410186768, 14.273719310760498, 41.35638213157654, 115.49333500862122, 338.89059114456177, 1164.8630907535553]\n",
      "[0.8124485015869141, 3.427950859069824, 14.18666672706604, 40.978400230407715, 116.5875334739685, 339.9934618473053, 1161.175918340683]\n"
     ]
    }
   ],
   "source": [
    "print(our_data_standard_K_2)\n",
    "print(our_data_superRoot_K_2)\n",
    "print(our_data_cube_K_2)"
   ]
  },
  {
   "cell_type": "code",
   "execution_count": 75,
   "metadata": {},
   "outputs": [
    {
     "data": {
      "text/plain": [
       "<matplotlib.legend.Legend at 0x7f46d57c7ac8>"
      ]
     },
     "execution_count": 75,
     "metadata": {},
     "output_type": "execute_result"
    },
    {
     "data": {
      "image/png": "[encoded data removed]",
      "text/plain": [
       "<matplotlib.figure.Figure at 0x7f46d4102128>"
      ]
     },
     "metadata": {},
     "output_type": "display_data"
    }
   ],
   "source": [
    "plt.figure(figsize=(15,8))\n",
    "plt.grid()\n",
    "plt.plot(paper_data_x, our_data_standard_K_2, '^-', label='Standard')\n",
    "plt.plot(paper_data_x, our_data_cube_K_2, 'o-', label='Cube Incognito')\n",
    "plt.plot(paper_data_x, our_data_superRoot_K_2, '+-', label='Super-roots incognito')\n",
    "plt.title(\"Adults database (k=2)\")\n",
    "plt.ylabel(\"Elapsed Time (seconds)\")\n",
    "plt.xlabel(\"Quasi-Identifier Size\")\n",
    "plt.legend()"
   ]
  },
  {
   "cell_type": "code",
   "execution_count": 70,
   "metadata": {},
   "outputs": [
    {
     "name": "stdout",
     "output_type": "stream",
     "text": [
      "[0.6154472827911377, 2.972156286239624, 9.371127367019653, 21.31086540222168, 57.597763776779175, 154.7722954750061, 405.57569670677185]\n",
      "[0.559863805770874, 2.2343196868896484, 6.319512367248535, 16.767500638961792, 44.04072141647339, 114.63340544700623, 306.608824968338]\n",
      "[0.5680036544799805, 2.213423728942871, 6.3404271602630615, 16.47464370727539, 42.95892310142517, 112.33826088905334, 301.22197365760803]\n"
     ]
    }
   ],
   "source": [
    "print(our_data_standard_K_10)\n",
    "print(our_data_superRoot_K_10)\n",
    "print(our_data_cube_K_10)"
   ]
  }
 ],
 "metadata": {
  "kernelspec": {
   "display_name": "Python 3",
   "language": "python",
   "name": "python3"
  },
  "language_info": {
   "codemirror_mode": {
    "name": "ipython",
    "version": 3
   },
   "file_extension": ".py",
   "mimetype": "text/x-python",
   "name": "python",
   "nbconvert_exporter": "python",
   "pygments_lexer": "ipython3",
   "version": "3.6.4"
  },
  "pycharm": {
   "stem_cell": {
    "cell_type": "raw",
    "metadata": {
     "collapsed": false
    },
    "source": []
   }
  }
 },
 "nbformat": 4,
 "nbformat_minor": 2
}
