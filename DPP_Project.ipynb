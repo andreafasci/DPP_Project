{
 "cells": [
  {
   "cell_type": "code",
   "execution_count": 30,
   "metadata": {},
   "outputs": [],
   "source": [
    "import pandas as pd\n",
    "import math\n",
    "import numpy as np\n",
    "import queue as pythonQueue\n",
    "import networkx as nx\n",
    "import matplotlib.pyplot as plt"
   ]
  },
  {
   "cell_type": "markdown",
   "metadata": {},
   "source": [
    "Import data from file"
   ]
  },
  {
   "cell_type": "code",
   "execution_count": 3,
   "metadata": {},
   "outputs": [],
   "source": [
    "data = pd.read_csv('adult.data', header=0, sep=', ', engine='python' )"
   ]
  },
  {
   "cell_type": "markdown",
   "metadata": {},
   "source": [
    "Drop these columns:\n",
    "- Fnlwgt\n",
    "- Education-num\n",
    "- Relationship\n",
    "- Capital gain\n",
    "- Capital loss\n",
    "- Hours-per-week"
   ]
  },
  {
   "cell_type": "code",
   "execution_count": 4,
   "metadata": {},
   "outputs": [],
   "source": [
    "data.drop(columns=['Fnlwgt', 'Education_num', 'Relationship', 'Capital_gain', 'Capital_loss', 'Hours_per_week'], inplace=True);"
   ]
  },
  {
   "cell_type": "markdown",
   "metadata": {},
   "source": [
    "Drop rows in which we have unknown values ('?')"
   ]
  },
  {
   "cell_type": "code",
   "execution_count": 5,
   "metadata": {},
   "outputs": [],
   "source": [
    "data.drop(data[\n",
    "                (data.Workclass == '?') |\n",
    "                (data.Education == '?') |\n",
    "                (data.Marital_status == '?') |\n",
    "                (data.Occupation == '?') |\n",
    "                (data.Race == '?') |\n",
    "                (data.Gender == '?') |\n",
    "                (data.Native_country == '?') |\n",
    "                (data.Salary == '?')].index, inplace=True);"
   ]
  },
  {
   "cell_type": "markdown",
   "metadata": {},
   "source": [
    "# Domain generalization\n",
    "\n",
    "For each remaining Q.I. and its corresponding domain, we define a generalization hierarchy, according to this (numbers in parenthesis corresponds to the height of the associated generalization hierarchy)\n",
    "\n",
    "- Age => 5-, 10-, 20- year ranges (4)\n",
    "- Workclass => Taxonomy tree (2)\n",
    "- Education =>  Taxonomy tree (2)\n",
    "- Marital status => Taxonomy tree (2)\n",
    "- Occupation => Taxonomy tree (2)\n",
    "- Race => Suppression (1)\n",
    "- Gender => Suppression (1)\n",
    "- Native country => Taxonomy tree (2)\n",
    "- Salary => Suppression (1)\n",
    "\n",
    "Code's rule:\n",
    "\n",
    "the less general version of the data of the Q.I. called 'pippo' is in data['pippo'] . \n",
    "\n",
    "For each generalization level n, we will have a variable called pippo_n containing the generalization of the values in data['pippo'], where pippo_1 is LESS general than pippo_2 "
   ]
  },
  {
   "cell_type": "markdown",
   "metadata": {},
   "source": [
    "### Domain generalization for Age\n",
    "- 5- year ranges\n",
    "- 10- year ranges\n",
    "- 20- year ranges"
   ]
  },
  {
   "cell_type": "code",
   "execution_count": 6,
   "metadata": {},
   "outputs": [],
   "source": [
    "age = pd.DataFrame(columns=('age_0','age_1', 'age_2', 'age_3'))\n",
    "age['age_0'] = data['Age']\n",
    "age['age_1'] = (data['Age']/5).apply(math.floor)*5\n",
    "age['age_2'] = (data['Age']/10).apply(math.floor)*10\n",
    "age['age_3'] = (data['Age']/20).apply(math.floor)*20"
   ]
  },
  {
   "cell_type": "markdown",
   "metadata": {},
   "source": [
    "### Domain generalization for Workclass\n",
    "\n",
    "- Private => Private => Working\n",
    "- Self-emp-not-inc => Self-Emp => Working\n",
    "- Self-emp-inc => Self-Emp => Working\n",
    "- Federal-gov => Federal-gov => Working\n",
    "- Local-gov => Other-gov => Working\n",
    "- State-gov => Other-gov => Working\n",
    "- Without-pay => Not-Working => Not-Working\n",
    "- Never-worked => Not-Working => Not-Working"
   ]
  },
  {
   "cell_type": "code",
   "execution_count": 7,
   "metadata": {},
   "outputs": [],
   "source": [
    "workclass = pd.DataFrame(columns=('workclass_0','workclass_1', 'workclass_2'))\n",
    "\n",
    "workclass['workclass_0'] = data['Workclass']\n",
    "\n",
    "workclass['workclass_1'] = workclass['workclass_0']\n",
    "workclass['workclass_1'].where(workclass['workclass_1'] != 'Self-emp-inc', 'Self-Emp', inplace=True)\n",
    "workclass['workclass_1'].where(workclass['workclass_1'] != 'Self-emp-not-inc', 'Self-Emp', inplace=True)\n",
    "workclass['workclass_1'].where(workclass['workclass_1'] != 'Local-gov', 'Other-gov', inplace=True)\n",
    "workclass['workclass_1'].where(workclass['workclass_1'] != 'State-gov', 'Other-gov', inplace=True)\n",
    "workclass['workclass_1'].where(workclass['workclass_1'] != 'Never-worked', 'Not-Working', inplace=True)\n",
    "workclass['workclass_1'].where(workclass['workclass_1'] != 'Without-pay', 'Not-Working', inplace=True)\n",
    "\n",
    "workclass['workclass_2'] = workclass['workclass_1']\n",
    "workclass['workclass_2'].where(workclass['workclass_2'] != 'Self-Emp', 'Working', inplace=True)\n",
    "workclass['workclass_2'].where(workclass['workclass_2'] != 'Federal-gov', 'Working', inplace=True)\n",
    "workclass['workclass_2'].where(workclass['workclass_2'] != 'Other-gov', 'Working', inplace=True)\n",
    "workclass['workclass_2'].where(workclass['workclass_2'] != 'Private', 'Working', inplace=True)"
   ]
  },
  {
   "cell_type": "markdown",
   "metadata": {},
   "source": [
    "### Domain generalization for Education\n",
    "\n",
    "- \"^10th\" => \"Dropout\" => \"Low\"\n",
    "\n",
    "- \"^11th\" => \"Dropout\" => \"Low\"\n",
    "\n",
    "- \"^12th\" => \"Dropout\" => \"Low\"\n",
    "\n",
    "- \"^1st-4th\" => \"Dropout\" => \"Low\"\n",
    "\n",
    "- \"^5th-6th\" => \"Dropout\" => \"Low\"\n",
    "\n",
    "- \"^7th-8th\" => \"Dropout\" => \"Low\"\n",
    "\n",
    "- \"^9th\" => \"Dropout\" => \"Low\"\n",
    "\n",
    "- \"^Preschool\" => \"Dropout\" => \"Low\"\n",
    "\n",
    "- \"^Assoc-acdm\" => \"Associates\" => \"High\"\n",
    "\n",
    "- \"^Assoc-voc\" => \"Associates\" => \"High\"\n",
    "\n",
    "- \"^Bachelors\" => \"Bachelors\" => \"High\"\n",
    "\n",
    "- \"^Doctorate\" => \"Doctorate\" => \"High\"\n",
    "\n",
    "- \"^HS-Grad\" => \"HS-Graduate\" => \"High\"\n",
    "\n",
    "- \"^Masters\" => \"Masters\" => \"High\"\n",
    "\n",
    "- \"^Prof-school\" => \"Prof-School\" => \"High\"\n",
    "\n",
    "- \"^Some-college\" => \"HS-Graduate\" => \"High\"\n"
   ]
  },
  {
   "cell_type": "code",
   "execution_count": 8,
   "metadata": {},
   "outputs": [],
   "source": [
    "education = pd.DataFrame(columns=('education_0', 'education_1', 'education_2'))\n",
    "\n",
    "education['education_0'] = data['Education']\n",
    "\n",
    "education['education_1'] = education['education_0']\n",
    "education['education_1'].where(education['education_1'] != '10th', 'Dropout', inplace=True)\n",
    "education['education_1'].where(education['education_1'] != '11th', 'Dropout', inplace=True)\n",
    "education['education_1'].where(education['education_1'] != '12th', 'Dropout', inplace=True)\n",
    "education['education_1'].where(education['education_1'] != '1st-4th', 'Dropout', inplace=True)\n",
    "education['education_1'].where(education['education_1'] != '5th-6th', 'Dropout', inplace=True)\n",
    "education['education_1'].where(education['education_1'] != '7th-8th', 'Dropout', inplace=True)\n",
    "education['education_1'].where(education['education_1'] != '9th', 'Dropout', inplace=True)\n",
    "education['education_1'].where(education['education_1'] != 'Preschool', 'Dropout', inplace=True)\n",
    "education['education_1'].where(education['education_1'] != 'Assoc-voc', 'Associates', inplace=True)\n",
    "education['education_1'].where(education['education_1'] != 'Assoc-acdm', 'Associates', inplace=True)\n",
    "education['education_1'].where(education['education_1'] != 'HS-grad', 'HS-Graduate', inplace=True)\n",
    "education['education_1'].where(education['education_1'] != 'Some-college', 'HS-Graduate', inplace=True)\n",
    "\n",
    "education['education_2'] = education['education_1']\n",
    "education['education_2'].where(education['education_2'] != 'Dropout', 'Low', inplace=True)\n",
    "education['education_2'].where(education['education_2'] != 'Prof-school', 'High', inplace=True)\n",
    "education['education_2'].where(education['education_2'] != 'Associates', 'High', inplace=True)\n",
    "education['education_2'].where(education['education_2'] != 'Bachelors', 'High', inplace=True)\n",
    "education['education_2'].where(education['education_2'] != 'Masters', 'High', inplace=True)\n",
    "education['education_2'].where(education['education_2'] != 'HS-Graduate', 'High', inplace=True)\n",
    "education['education_2'].where(education['education_2'] != 'Doctorate', 'High', inplace=True)"
   ]
  },
  {
   "cell_type": "markdown",
   "metadata": {},
   "source": [
    "### Domain generalization for Marital status\n",
    "\n",
    "- Widowed => Widowed => Married\n",
    "- Divorced => Not-Married => Not-Married\n",
    "- Married-AF-spouse => Married => Married\n",
    "- Separated => Not-Married => Not-Married\n",
    "- Married-spouse-absent => Not-Married => Not-Married\n",
    "- Married-civ-spouse => Married => Married\n",
    "- Never-married => Never-Married => Not-Married"
   ]
  },
  {
   "cell_type": "code",
   "execution_count": 9,
   "metadata": {},
   "outputs": [],
   "source": [
    "marital_status = pd.DataFrame(columns=('marital_status_0', 'marital_status_1', 'marital_status_2'))\n",
    "\n",
    "marital_status['marital_status_0'] = data['Marital_status']\n",
    "\n",
    "marital_status['marital_status_1'] = marital_status['marital_status_0']\n",
    "marital_status['marital_status_1'].where(marital_status['marital_status_1'] != 'Divorced', 'Not-Married', inplace=True)\n",
    "marital_status['marital_status_1'].where(marital_status['marital_status_1'] != 'Married-AF-spouse', 'Married', inplace=True)\n",
    "marital_status['marital_status_1'].where(marital_status['marital_status_1'] != 'Separated', 'Not-Married', inplace=True)\n",
    "marital_status['marital_status_1'].where(marital_status['marital_status_1'] != 'Married-spouse-absent', 'Not-Married', inplace=True)\n",
    "marital_status['marital_status_1'].where(marital_status['marital_status_1'] != 'Married-civ-spouse', 'Married', inplace=True)\n",
    "\n",
    "marital_status['marital_status_2'] = marital_status['marital_status_1']\n",
    "marital_status['marital_status_2'].where(marital_status['marital_status_2'] != 'Widowed', 'Married', inplace=True)\n",
    "marital_status['marital_status_2'].where(marital_status['marital_status_2'] != 'Never-married', 'Not-Married', inplace=True)"
   ]
  },
  {
   "cell_type": "markdown",
   "metadata": {},
   "source": [
    "### Domain generalization for Occupation\n",
    "- Adm-clerical => Admin => A\n",
    "- Armed-Forces => Military => A\n",
    "- Craft-repair => Blue-Collar => B\n",
    "- Exec-managerial => White-Collar => A\n",
    "- Farming-fishing => Blue-Collar => B\n",
    "- Handlers-cleaners => Blue-Collar => B\n",
    "- Machine-op-inspct => Blue-Collar => B\n",
    "- Other-service => Service => B\n",
    "- Priv-house-serv => Service => B\n",
    "- Prof-specialty => Other-Occupations => A\n",
    "- Protective-serv => Other-Occupations => A\n",
    "- Sales => Sales => B\n",
    "- Tech-support => Other-Occupations => A\n",
    "- Transport-moving => Other-Occupations => A"
   ]
  },
  {
   "cell_type": "code",
   "execution_count": 10,
   "metadata": {},
   "outputs": [],
   "source": [
    "occupation = pd.DataFrame(columns=('occupation_0','occupation_1', 'occupation_2'))\n",
    "\n",
    "occupation['occupation_0'] = data['Occupation']\n",
    "\n",
    "occupation['occupation_1'] = occupation['occupation_0']\n",
    "occupation['occupation_1'].where(occupation['occupation_1'] != 'Adm-clerical', 'Admin', inplace=True)\n",
    "occupation['occupation_1'].where(occupation['occupation_1'] != 'Armed-Forces', 'Military', inplace=True)\n",
    "occupation['occupation_1'].where(occupation['occupation_1'] != 'Craft-repair', 'Blue-Collar', inplace=True)\n",
    "occupation['occupation_1'].where(occupation['occupation_1'] != 'Exec-managerial', 'White-Collar', inplace=True)\n",
    "occupation['occupation_1'].where(occupation['occupation_1'] != 'Farming-fishing', 'Blue-Collar', inplace=True)\n",
    "occupation['occupation_1'].where(occupation['occupation_1'] != 'Handlers-cleaners', 'Blue-Collar', inplace=True)\n",
    "occupation['occupation_1'].where(occupation['occupation_1'] != 'Machine-op-inspct', 'Blue-Collar', inplace=True)\n",
    "occupation['occupation_1'].where(occupation['occupation_1'] != 'Other-service', 'Service', inplace=True)\n",
    "occupation['occupation_1'].where(occupation['occupation_1'] != 'Priv-house-serv', 'Service', inplace=True)\n",
    "occupation['occupation_1'].where(occupation['occupation_1'] != 'Prof-specialty', 'Other-Occupations', inplace=True)\n",
    "occupation['occupation_1'].where(occupation['occupation_1'] != 'Protective-serv', 'Other-Occupations', inplace=True)\n",
    "occupation['occupation_1'].where(occupation['occupation_1'] != 'Tech-support', 'Other-Occupations', inplace=True)\n",
    "occupation['occupation_1'].where(occupation['occupation_1'] != 'Transport-moving', 'Other-Occupations', inplace=True)\n",
    "\n",
    "occupation['occupation_2'] = occupation['occupation_1']\n",
    "occupation['occupation_2'].where(occupation['occupation_2'] != 'Military', 'A', inplace=True)\n",
    "occupation['occupation_2'].where(occupation['occupation_2'] != 'Sales', 'B', inplace=True)\n",
    "occupation['occupation_2'].where(occupation['occupation_2'] != 'Admin', 'A', inplace=True)\n",
    "occupation['occupation_2'].where(occupation['occupation_2'] != 'White-Collar', 'A', inplace=True)\n",
    "occupation['occupation_2'].where(occupation['occupation_2'] != 'Other-Occupations', 'A', inplace=True)\n",
    "occupation['occupation_2'].where(occupation['occupation_2'] != 'Service', 'B', inplace=True)\n",
    "occupation['occupation_2'].where(occupation['occupation_2'] != 'Blue-Collar', 'B', inplace=True)"
   ]
  },
  {
   "cell_type": "markdown",
   "metadata": {},
   "source": [
    "### Domain generalization for Race\n",
    "Based on suppression"
   ]
  },
  {
   "cell_type": "code",
   "execution_count": 11,
   "metadata": {},
   "outputs": [],
   "source": [
    "race = pd.DataFrame(columns=('race_0','race_1'))\n",
    "\n",
    "race['race_0'] = data['Race']\n",
    "race['race_1'] = race['race_0']\n",
    "race['race_1'].where(race['race_1'] != race['race_1'], '*', inplace=True)"
   ]
  },
  {
   "cell_type": "markdown",
   "metadata": {},
   "source": [
    "### Domain generalization for Gender\n",
    "\n",
    "Based on suppression"
   ]
  },
  {
   "cell_type": "code",
   "execution_count": 12,
   "metadata": {},
   "outputs": [],
   "source": [
    "gender = pd.DataFrame(columns=('gender_0', 'gender_1'))\n",
    "\n",
    "gender['gender_0'] = data['Gender']\n",
    "gender['gender_1'] = gender['gender_0']\n",
    "gender['gender_1'].where(gender['gender_1'] != gender['gender_1'], '*', inplace=True)"
   ]
  },
  {
   "cell_type": "markdown",
   "metadata": {},
   "source": [
    "### Domain generalization for Native Country\n",
    "\n",
    "- Cambodia => SE-Asia => Asia\n",
    "- Canada => British-Commonwealth => British-Commonwealth   \n",
    "- China => Asia => Asia\n",
    "- Columbia => South-America => South-America\n",
    "- Cuba => Latin-America => South-America\n",
    "- Dominican-Republic => Latin-America => South-America\n",
    "- Ecuador => South-America => South-America\n",
    "- El-Salvador => South-America => South-America\n",
    "- England => British-Commonwealth => British-Commonwealth\n",
    "- France => Euro_1 => Europe\n",
    "- Germany => Euro_1 => Europe\n",
    "- Greece => Euro_2 => Europe\n",
    "- Guatemala => Latin-America => South-America\n",
    "- Haiti => Latin-America => South-America\n",
    "- Holand-Netherlands => Euro_1 => Europe\n",
    "- Honduras => Latin-America => South-America\n",
    "- Hong => Asia => Asia\n",
    "- Hungary => Euro_2 => Europe\n",
    "- India => British-Commonwealth => British-Commonwealth\n",
    "- Iran => Asia => Asia\n",
    "- Ireland => British-Commonwealth => British-Commonwealth\n",
    "- Italy => Euro_1 => Europe\n",
    "- Jamaica => Latin-America => South-America\n",
    "- Japan => Asia => Asia\n",
    "- Laos => SE-Asia => Asia\n",
    "- Mexico => Latin-America => South-America\n",
    "- Nicaragua => Latin-America => South-America\n",
    "- Outlying-US(Guam-USVI-etc) => Latin-America => South-America\n",
    "- Peru => South-America => South-America\n",
    "- Philippines => SE-Asia => Asia\n",
    "- Poland => Euro_2 => Europe\n",
    "- Portugal => Euro_2 => Europe\n",
    "- Puerto-Rico => Latin-America => South-America\n",
    "- Scotland => British-Commonwealth => British-Commonwealth\n",
    "- South => Euro_2 => Europe\n",
    "- Taiwan => Asia => Asia\n",
    "- Thailand => SE-Asia => Asia\n",
    "- Trinadad&Tobago => Latin-America => South-America\n",
    "- United-States => United-States => United-States\n",
    "- Vietnam => SE-Asia => Asia\n",
    "- Yugoslavia => Euro_2 => Europe"
   ]
  },
  {
   "cell_type": "code",
   "execution_count": 13,
   "metadata": {},
   "outputs": [],
   "source": [
    "native_country = pd.DataFrame(columns=('native_country_0', 'native_country_1', 'native_country_2'))\n",
    "\n",
    "native_country['native_country_0'] = data['Native_country']\n",
    "\n",
    "native_country['native_country_1'] = native_country['native_country_0']\n",
    "\n",
    "native_country['native_country_1'].where(native_country['native_country_1'] != 'Cambodia', 'SE-Asia', inplace=True)\n",
    "native_country['native_country_1'].where(native_country['native_country_1'] != 'Canada', 'British-Commonwealth', inplace=True)\n",
    "native_country['native_country_1'].where(native_country['native_country_1'] != 'China', 'Asia', inplace=True)\n",
    "native_country['native_country_1'].where(native_country['native_country_1'] != 'Columbia', 'South-America', inplace=True)\n",
    "native_country['native_country_1'].where(native_country['native_country_1'] != 'Cuba', 'Latin-America', inplace=True)\n",
    "native_country['native_country_1'].where(native_country['native_country_1'] != 'Dominican-Republic', 'Latin-America', inplace=True)\n",
    "native_country['native_country_1'].where(native_country['native_country_1'] != 'Ecuador', 'South-America', inplace=True)\n",
    "native_country['native_country_1'].where(native_country['native_country_1'] != 'El-Salvador', 'South-America', inplace=True)\n",
    "native_country['native_country_1'].where(native_country['native_country_1'] != 'England', 'British-Commonwealth', inplace=True)\n",
    "native_country['native_country_1'].where(native_country['native_country_1'] != 'France', 'Euro_1', inplace=True)\n",
    "native_country['native_country_1'].where(native_country['native_country_1'] != 'Germany', 'Euro_1', inplace=True)\n",
    "native_country['native_country_1'].where(native_country['native_country_1'] != 'Greece', 'Euro_2', inplace=True)\n",
    "native_country['native_country_1'].where(native_country['native_country_1'] != 'Guatemala', 'Latin-America', inplace=True)\n",
    "native_country['native_country_1'].where(native_country['native_country_1'] != 'Haiti', 'Latin-America', inplace=True)\n",
    "native_country['native_country_1'].where(native_country['native_country_1'] != 'Holand-Netherlands', 'Euro_1', inplace=True)\n",
    "native_country['native_country_1'].where(native_country['native_country_1'] != 'Honduras', 'Latin-America', inplace=True)\n",
    "native_country['native_country_1'].where(native_country['native_country_1'] != 'Hong', 'Asia', inplace=True)\n",
    "native_country['native_country_1'].where(native_country['native_country_1'] != 'Hungary', 'Euro_2', inplace=True)\n",
    "native_country['native_country_1'].where(native_country['native_country_1'] != 'India', 'British-Commonwealth', inplace=True)\n",
    "native_country['native_country_1'].where(native_country['native_country_1'] != 'Iran', 'Asia', inplace=True)\n",
    "native_country['native_country_1'].where(native_country['native_country_1'] != 'Ireland', 'British-Commonwealth', inplace=True)\n",
    "native_country['native_country_1'].where(native_country['native_country_1'] != 'Italy', 'Euro_1', inplace=True)\n",
    "native_country['native_country_1'].where(native_country['native_country_1'] != 'Jamaica', 'Latin-America', inplace=True)\n",
    "native_country['native_country_1'].where(native_country['native_country_1'] != 'Japan', 'Asia', inplace=True)\n",
    "native_country['native_country_1'].where(native_country['native_country_1'] != 'Laos', 'SE-Asia', inplace=True)\n",
    "native_country['native_country_1'].where(native_country['native_country_1'] != 'Mexico', 'Latin-America', inplace=True)\n",
    "native_country['native_country_1'].where(native_country['native_country_1'] != 'Nicaragua', 'Latin-America', inplace=True)\n",
    "native_country['native_country_1'].where(native_country['native_country_1'] != 'Outlying-US(Guam-USVI-etc)', 'Latin-America', inplace=True)\n",
    "native_country['native_country_1'].where(native_country['native_country_1'] != 'Peru', 'South-America', inplace=True)\n",
    "native_country['native_country_1'].where(native_country['native_country_1'] != 'Philippines', 'SE-Asia', inplace=True)\n",
    "native_country['native_country_1'].where(native_country['native_country_1'] != 'Poland', 'Euro_2', inplace=True)\n",
    "native_country['native_country_1'].where(native_country['native_country_1'] != 'Portugal', 'Euro_2', inplace=True)\n",
    "native_country['native_country_1'].where(native_country['native_country_1'] != 'Puerto-Rico', 'Latin-America', inplace=True)\n",
    "native_country['native_country_1'].where(native_country['native_country_1'] != 'Scotland', 'British-Commonwealth', inplace=True)\n",
    "native_country['native_country_1'].where(native_country['native_country_1'] != 'South', 'Euro_2', inplace=True)\n",
    "native_country['native_country_1'].where(native_country['native_country_1'] != 'Taiwan', 'Asia', inplace=True)\n",
    "native_country['native_country_1'].where(native_country['native_country_1'] != 'Thailand', 'SE-Asia', inplace=True)\n",
    "native_country['native_country_1'].where(native_country['native_country_1'] != 'Trinadad&Tobago', 'Latin-America', inplace=True)\n",
    "native_country['native_country_1'].where(native_country['native_country_1'] != 'Vietnam', 'SE-Asia', inplace=True)\n",
    "native_country['native_country_1'].where(native_country['native_country_1'] != 'Yugoslavia', 'Euro_2', inplace=True)\n",
    "\n",
    "native_country['native_country_2'] = native_country['native_country_1']\n",
    "native_country['native_country_2'].where(native_country['native_country_2'] != 'Euro_1', 'Europe', inplace=True)\n",
    "native_country['native_country_2'].where(native_country['native_country_2'] != 'Euro_2', 'Europe', inplace=True)\n",
    "native_country['native_country_2'].where(native_country['native_country_2'] != 'SE-Asia', 'Asia', inplace=True)\n",
    "native_country['native_country_2'].where(native_country['native_country_2'] != 'Latin-America', 'South-America', inplace=True)"
   ]
  },
  {
   "cell_type": "markdown",
   "metadata": {},
   "source": [
    "### Domain generalization for Salary\n",
    "\n",
    "Based on suppression"
   ]
  },
  {
   "cell_type": "code",
   "execution_count": 14,
   "metadata": {},
   "outputs": [],
   "source": [
    "salary = pd.DataFrame(columns=('salary_0','salary_1'))\n",
    "\n",
    "salary['salary_0'] = data['Salary']\n",
    "salary['salary_1'] = salary['salary_0']\n",
    "salary['salary_1'].where(salary['salary_1'] != salary['salary_1'], '*', inplace=True)"
   ]
  },
  {
   "cell_type": "markdown",
   "metadata": {},
   "source": [
    "### Domains to array"
   ]
  },
  {
   "cell_type": "code",
   "execution_count": 28,
   "metadata": {},
   "outputs": [],
   "source": [
    "dimensions = {}\n",
    "dimensions['Age']=age\n",
    "dimensions['Workclass'] = workclass\n",
    "dimensions['Education']=education\n",
    "dimensions['Marital_status']=marital_status\n",
    "dimensions['Occupation']=occupation\n",
    "dimensions['Race']=race\n",
    "dimensions['Gender']=gender\n",
    "dimensions['Native_country']=native_country\n",
    "dimensions['Salary']=salary"
   ]
  },
  {
   "cell_type": "markdown",
   "metadata": {},
   "source": [
    "# Incognito algorithm"
   ]
  },
  {
   "cell_type": "code",
   "execution_count": 35,
   "metadata": {},
   "outputs": [
    {
     "data": {
      "text/plain": [
       "Index(['age_0', 'age_1', 'age_2', 'age_3'], dtype='object')"
      ]
     },
     "execution_count": 35,
     "metadata": {},
     "output_type": "execute_result"
    }
   ],
   "source": [
    "dimensions['Age'].columns"
   ]
  },
  {
   "cell_type": "code",
   "execution_count": 45,
   "metadata": {},
   "outputs": [],
   "source": [
    "def generate_graph_0(Q, dimensions):\n",
    "    G = nx.DiGraph()\n",
    "    for dimension_name in Q:\n",
    "        prev = None\n",
    "        height = 0\n",
    "        for dimension_level_name in dimensions[dimension_name].columns:\n",
    "            l = [(dimension_name, height)]\n",
    "            #Convert the list to tuple to make it hashable\n",
    "            #Not making directly a tuple to be consistent \n",
    "            current_node = tuple(l)\n",
    "            G.add_node(current_node)\n",
    "            if prev is None:\n",
    "                prev = current_node\n",
    "                continue\n",
    "            #from ((age, 0)) to ((age, 1)), then ((age,1)) to ((age, 2))\n",
    "            G.add_edge(prev, current_node)\n",
    "            height = height + 1\n",
    "            prev = current_node\n",
    "    \n",
    "    return G\n",
    "            \n",
    "            \n",
    "    "
   ]
  },
  {
   "cell_type": "code",
   "execution_count": null,
   "metadata": {},
   "outputs": [],
   "source": []
  },
  {
   "cell_type": "code",
   "execution_count": null,
   "metadata": {},
   "outputs": [],
   "source": []
  },
  {
   "cell_type": "code",
   "execution_count": 17,
   "metadata": {},
   "outputs": [],
   "source": [
    "def frequencySet_standard(T, Q):\n",
    "    fsSet = T.groupby(Q).count().reset_index()\n",
    "    fsSet = fsSet.iloc[:, :(len(Q)+1)]\n",
    "    fsSet.rename({fsSet.columns[(len(Q))] : 'Count'}, axis='columns', inplace=True)\n",
    "\n",
    "    return fsSet"
   ]
  },
  {
   "cell_type": "code",
   "execution_count": 18,
   "metadata": {},
   "outputs": [],
   "source": [
    "def computeK(frequencySet):\n",
    "    return min(frequencySet['Count'])"
   ]
  },
  {
   "cell_type": "code",
   "execution_count": 19,
   "metadata": {},
   "outputs": [
    {
     "ename": "SyntaxError",
     "evalue": "invalid syntax (<ipython-input-19-944a9e4e5ed9>, line 16)",
     "output_type": "error",
     "traceback": [
      "\u001b[1;36m  File \u001b[1;32m\"<ipython-input-19-944a9e4e5ed9>\"\u001b[1;36m, line \u001b[1;32m16\u001b[0m\n\u001b[1;33m    queue.put([height(node)???, node])\u001b[0m\n\u001b[1;37m                           ^\u001b[0m\n\u001b[1;31mSyntaxError\u001b[0m\u001b[1;31m:\u001b[0m invalid syntax\n"
     ]
    }
   ],
   "source": [
    "def incognito_standard (k, T, Q, generalizations):\n",
    "    \n",
    "    queue = pythonQueue.PriorityQueue()\n",
    "    \n",
    "    # Must be initialized outside the for since will be both shared between iterations...\n",
    "    C_i = nx.DiGraph() # Graph (C_i, E_i) at iteration i\n",
    "    S_i = nx.DiGraph() # Graph (S_i, E_i) at iteration i\n",
    "\n",
    "    for i in range(0, len(Q)):\n",
    "        S_i = C_i.copy()\n",
    "        marked = set()\n",
    "        \n",
    "        # Insert all roots node into queue, keeping queue sorted by height\n",
    "        for node in C_i.nodes():\n",
    "            if C_i.in_degree(node) == 0:\n",
    "                queue.put([height(node)???, node])\n",
    "        \n",
    "        while not queue.empty():\n",
    "            node = queue.get()\n",
    "            if not node in marked:\n",
    "                # if node is a root\n",
    "                attributesOfNode = ???\n",
    "                \n",
    "                if C_i.in_degree(node) == 0:\n",
    "                    frequencySet = frequencySet_standard(T, attributesOfNode)\n",
    "                else:\n",
    "                    frequencySetParent = ???\n",
    "                    frequencySet = frequencySet_rollup(T, attributesOfNode, frequencySetParent)\n",
    "                \n",
    "                actual_k = computeK(frequencySet)\n",
    "                # If T is k-anonymous with respect to attributes of node\n",
    "                if (actual_k >= k):\n",
    "                    generalizationsPath = ???\n",
    "                    # mark all direct generalizations of node\n",
    "                    for generalization in generalizationsPath:\n",
    "                        marked.add(generalization)\n",
    "                else:\n",
    "                    S_i.remove_node(node)\n",
    "                    for generalization in generalizationsPath:\n",
    "                        queue.put([height(generalization)???, generalization])\n",
    "        \n",
    "        C_i = GraphGeneration(S_i)???\n",
    "        \n",
    "    return S_i"
   ]
  },
  {
   "cell_type": "markdown",
   "metadata": {},
   "source": [
    "# Tests\n",
    "\n",
    "Some code to do tests and similar"
   ]
  },
  {
   "cell_type": "code",
   "execution_count": null,
   "metadata": {},
   "outputs": [],
   "source": [
    "# Example of dataframe, supposed to be 1-anonymous\n",
    "\n",
    "exampleDF = pd.DataFrame(columns=('Name','Age', 'Gender', 'State_domicile', 'Religion', 'Disease'))\n",
    "exampleDF.loc[0] = ['Ramsha' ,30 ,'Female' ,'Tamil Nadu' ,'Hindu' ,'Cancer']\n",
    "exampleDF.loc[1] = ['Yadu' ,24 ,'Female' ,'Kerala' ,'Hindu' ,'Viral infection']\n",
    "exampleDF.loc[2] = ['Salima' ,28 ,'Female' ,'Tamil Nadu' ,'Muslim' ,'TB']\n",
    "exampleDF.loc[3] = ['Sunny' ,27 ,'Male' ,'Karnataka' ,'Parsi' ,'No illness']\n",
    "exampleDF.loc[4] = ['Joan' ,24 ,'Female' ,'Kerala' ,'Christian' ,'Heart-related']\n",
    "exampleDF.loc[5] = ['Bahuksana' ,23 ,'Male' ,'Karnataka' ,'Buddhist' ,'TB']\n",
    "exampleDF.loc[6] = ['Rambha' ,19 ,'Male' ,'Kerala' ,'Hindu' ,'Cancer']\n",
    "exampleDF.loc[7] = ['Kishor' ,29 ,'Male' ,'Karnataka' ,'Hindu' ,'Heart-related']\n",
    "exampleDF.loc[8] = ['Johnson' ,17 ,'Male' ,'Kerala' ,'Christian' ,'Heart-related']\n",
    "exampleDF.loc[9] = ['John' ,19 ,'Male' ,'Kerala' ,'Christian' ,'Viral infection']"
   ]
  },
  {
   "cell_type": "code",
   "execution_count": null,
   "metadata": {},
   "outputs": [],
   "source": [
    "# the same dataframe but anonymized, it is supposed to be 2-anonymous with respect to Age, Gender, State_domicile\n",
    "\n",
    "exampleDF_anonymized = pd.DataFrame(columns=('Name','Age', 'Gender', 'State_domicile', 'Religion', 'Disease'))\n",
    "exampleDF_anonymized.loc[0] = ['*', '20 < Age < 30', 'Female', 'Tamil Nadu','*', 'Cancer']\n",
    "exampleDF_anonymized.loc[1] = ['*', '20 < Age < 30', 'Female', 'Kerala', '*', 'Viral infection']\n",
    "exampleDF_anonymized.loc[2] = ['*', '20 < Age < 30', 'Female','Tamil Nadu', '*', 'TB']\n",
    "exampleDF_anonymized.loc[3] = ['*', '20 < Age < 30', 'Male', 'Karnataka', '*', 'No illness']\n",
    "exampleDF_anonymized.loc[4] = ['*', '20 < Age < 30', 'Female', 'Kerala', '*', 'Heart-related']\n",
    "exampleDF_anonymized.loc[5] = ['*', '20 < Age < 30', 'Male', 'Karnataka', '*', 'TB']\n",
    "exampleDF_anonymized.loc[6] = ['*', 'Age < 20', 'Male', 'Kerala', '*', 'Cancer']\n",
    "exampleDF_anonymized.loc[7] = ['*', '20 < Age < 30', 'Male', 'Karnataka', '*', 'Heart-related']\n",
    "exampleDF_anonymized.loc[8] = ['*', 'Age < 20', 'Male', 'Kerala',  '*', 'Heart-related']\n",
    "exampleDF_anonymized.loc[9] = ['*', 'Age < 20', 'Male', 'Kerala', '*', 'Viral infection']"
   ]
  },
  {
   "cell_type": "code",
   "execution_count": null,
   "metadata": {},
   "outputs": [],
   "source": [
    "frequencySet_standard(exampleDF, ['Age', 'Gender', 'State_domicile'])"
   ]
  },
  {
   "cell_type": "code",
   "execution_count": null,
   "metadata": {},
   "outputs": [],
   "source": [
    "frequencySet_standard(exampleDF_anonymized, ['Age', 'Gender', 'State_domicile'])"
   ]
  },
  {
   "cell_type": "code",
   "execution_count": null,
   "metadata": {},
   "outputs": [],
   "source": [
    "fSet = frequencySet_standard(data[:30], ['Age', 'Workclass', 'Education', 'Marital_status'])\n",
    "fSet"
   ]
  },
  {
   "cell_type": "code",
   "execution_count": null,
   "metadata": {},
   "outputs": [],
   "source": [
    "tmpAge = pd.DataFrame({'age_0' : np.sort(pd.unique(data['Age']))})\n",
    "tmpAge['age_1'] = (tmpAge['age_0']/5).apply(math.floor)*5\n",
    "tmpAge['age_2'] = (tmpAge['age_0']/10).apply(math.floor)*10\n",
    "tmpAge['age_3'] = (tmpAge['age_0']/20).apply(math.floor)*20\n",
    "\n",
    "fSet = frequencySet_standard(data[:50], ['Age', 'Workclass', 'Education', 'Marital_status'])\n",
    "\n",
    "fSet.join(tmpAge.set_index('age_0'), on='Age')"
   ]
  },
  {
   "cell_type": "code",
   "execution_count": 46,
   "metadata": {},
   "outputs": [
    {
     "data": {
      "image/png": "[encoded data removed]",
      "text/plain": [
       "<Figure size 432x288 with 1 Axes>"
      ]
     },
     "metadata": {},
     "output_type": "display_data"
    }
   ],
   "source": [
    "graph = generate_graph_0( ['Age', 'Workclass', 'Education', 'Marital_status'], dimensions)\n",
    "labels = {node:str(node) for node in graph.nodes()}\n",
    "nx.draw(graph, with_labels=True, labels=labels)\n",
    "plt.show()"
   ]
  },
  {
   "cell_type": "code",
   "execution_count": null,
   "metadata": {},
   "outputs": [],
   "source": []
  }
 ],
 "metadata": {
  "kernelspec": {
   "display_name": "Python 3",
   "language": "python",
   "name": "python3"
  },
  "language_info": {
   "codemirror_mode": {
    "name": "ipython",
    "version": 3
   },
   "file_extension": ".py",
   "mimetype": "text/x-python",
   "name": "python",
   "nbconvert_exporter": "python",
   "pygments_lexer": "ipython3",
   "version": "3.6.7"
  }
 },
 "nbformat": 4,
 "nbformat_minor": 2
}
