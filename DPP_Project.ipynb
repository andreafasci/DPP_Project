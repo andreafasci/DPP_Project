{
 "cells": [
  {
   "cell_type": "code",
   "execution_count": 1,
   "metadata": {},
   "outputs": [],
   "source": [
    "import pandas as pd\n",
    "import math\n",
    "import numpy as np\n",
    "import queue as pythonQueue\n",
    "import networkx as nx\n",
    "import matplotlib.pyplot as plt"
   ]
  },
  {
   "cell_type": "markdown",
   "metadata": {},
   "source": [
    "Definitions"
   ]
  },
  {
   "cell_type": "code",
   "execution_count": 2,
   "metadata": {},
   "outputs": [],
   "source": [
    "ATTRIBUTE_NAME = 0\n",
    "ATTRIBUTE_HEIGHT = 1"
   ]
  },
  {
   "cell_type": "markdown",
   "metadata": {},
   "source": [
    "Import data from file"
   ]
  },
  {
   "cell_type": "code",
   "execution_count": 3,
   "metadata": {},
   "outputs": [],
   "source": [
    "data = pd.read_csv('adult.data', header=0, sep=', ', engine='python' )\n",
    "\n",
    "# Move to lowercase\n",
    "data.columns = [col.lower() for col in data.columns]"
   ]
  },
  {
   "cell_type": "markdown",
   "metadata": {},
   "source": [
    "Drop these columns:\n",
    "- Fnlwgt\n",
    "- Education-num\n",
    "- Relationship\n",
    "- Capital gain\n",
    "- Capital loss\n",
    "- Hours-per-week"
   ]
  },
  {
   "cell_type": "code",
   "execution_count": 4,
   "metadata": {},
   "outputs": [],
   "source": [
    "data.drop(columns=['fnlwgt', 'education_num', 'relationship', 'capital_gain', 'capital_loss', 'hours_per_week'], inplace=True);"
   ]
  },
  {
   "cell_type": "markdown",
   "metadata": {},
   "source": [
    "Drop rows in which we have unknown values ('?')"
   ]
  },
  {
   "cell_type": "code",
   "execution_count": 5,
   "metadata": {},
   "outputs": [],
   "source": [
    "data.drop(data[\n",
    "                (data.workclass == '?') |\n",
    "                (data.education == '?') |\n",
    "                (data.marital_status == '?') |\n",
    "                (data.occupation == '?') |\n",
    "                (data.race == '?') |\n",
    "                (data.gender == '?') |\n",
    "                (data.native_country == '?') |\n",
    "                (data.salary == '?')].index, inplace=True);"
   ]
  },
  {
   "cell_type": "markdown",
   "metadata": {},
   "source": [
    "# Domain generalization\n",
    "\n",
    "For each remaining Q.I. and its corresponding domain, we define a generalization hierarchy, according to this (numbers in parenthesis corresponds to the height of the associated generalization hierarchy)\n",
    "\n",
    "- Age => 5-, 10-, 20- year ranges (4)\n",
    "- Workclass => Taxonomy tree (2)\n",
    "- Education =>  Taxonomy tree (2)\n",
    "- Marital status => Taxonomy tree (2)\n",
    "- Occupation => Taxonomy tree (2)\n",
    "- Race => Suppression (1)\n",
    "- Gender => Suppression (1)\n",
    "- Native country => Taxonomy tree (2)\n",
    "- Salary => Suppression (1)\n",
    "\n",
    "Code's rule:\n",
    "\n",
    "the less general version of the data of the Q.I. called 'pippo' is in data['pippo'] . \n",
    "\n",
    "For each generalization level n, we will have a variable called pippo_n containing the generalization of the values in data['pippo'], where pippo_1 is LESS general than pippo_2 "
   ]
  },
  {
   "cell_type": "markdown",
   "metadata": {},
   "source": [
    "### Domain generalization for Age\n",
    "- 5- year ranges\n",
    "- 10- year ranges\n",
    "- 20- year ranges"
   ]
  },
  {
   "cell_type": "code",
   "execution_count": 6,
   "metadata": {},
   "outputs": [],
   "source": [
    "age = pd.DataFrame({'age_0' : np.sort(pd.unique(data['age']))})\n",
    "age['age_1'] = (age['age_0']/5).apply(math.floor)*5\n",
    "age['age_2'] = (age['age_0']/10).apply(math.floor)*10\n",
    "age['age_3'] = (age['age_0']/20).apply(math.floor)*20"
   ]
  },
  {
   "cell_type": "markdown",
   "metadata": {},
   "source": [
    "### Domain generalization for Workclass\n",
    "\n",
    "- Private => Private => Working\n",
    "- Self-emp-not-inc => Self-Emp => Working\n",
    "- Self-emp-inc => Self-Emp => Working\n",
    "- Federal-gov => Federal-gov => Working\n",
    "- Local-gov => Other-gov => Working\n",
    "- State-gov => Other-gov => Working\n",
    "- Without-pay => Not-Working => Not-Working\n",
    "- Never-worked => Not-Working => Not-Working"
   ]
  },
  {
   "cell_type": "code",
   "execution_count": 7,
   "metadata": {},
   "outputs": [],
   "source": [
    "workclass = pd.DataFrame({'workclass_0' : np.sort(pd.unique(data['workclass']))})\n",
    "\n",
    "workclass['workclass_1'] = workclass['workclass_0']\n",
    "workclass['workclass_1'].where(workclass['workclass_1'] != 'Self-emp-inc', 'Self-Emp', inplace=True)\n",
    "workclass['workclass_1'].where(workclass['workclass_1'] != 'Self-emp-not-inc', 'Self-Emp', inplace=True)\n",
    "workclass['workclass_1'].where(workclass['workclass_1'] != 'Local-gov', 'Other-gov', inplace=True)\n",
    "workclass['workclass_1'].where(workclass['workclass_1'] != 'State-gov', 'Other-gov', inplace=True)\n",
    "workclass['workclass_1'].where(workclass['workclass_1'] != 'Never-worked', 'Not-Working', inplace=True)\n",
    "workclass['workclass_1'].where(workclass['workclass_1'] != 'Without-pay', 'Not-Working', inplace=True)\n",
    "\n",
    "workclass['workclass_2'] = workclass['workclass_1']\n",
    "workclass['workclass_2'].where(workclass['workclass_2'] != 'Self-Emp', 'Working', inplace=True)\n",
    "workclass['workclass_2'].where(workclass['workclass_2'] != 'Federal-gov', 'Working', inplace=True)\n",
    "workclass['workclass_2'].where(workclass['workclass_2'] != 'Other-gov', 'Working', inplace=True)\n",
    "workclass['workclass_2'].where(workclass['workclass_2'] != 'Private', 'Working', inplace=True)"
   ]
  },
  {
   "cell_type": "markdown",
   "metadata": {},
   "source": [
    "### Domain generalization for Education\n",
    "\n",
    "- \"^10th\" => \"Dropout\" => \"Low\"\n",
    "\n",
    "- \"^11th\" => \"Dropout\" => \"Low\"\n",
    "\n",
    "- \"^12th\" => \"Dropout\" => \"Low\"\n",
    "\n",
    "- \"^1st-4th\" => \"Dropout\" => \"Low\"\n",
    "\n",
    "- \"^5th-6th\" => \"Dropout\" => \"Low\"\n",
    "\n",
    "- \"^7th-8th\" => \"Dropout\" => \"Low\"\n",
    "\n",
    "- \"^9th\" => \"Dropout\" => \"Low\"\n",
    "\n",
    "- \"^Preschool\" => \"Dropout\" => \"Low\"\n",
    "\n",
    "- \"^Assoc-acdm\" => \"Associates\" => \"High\"\n",
    "\n",
    "- \"^Assoc-voc\" => \"Associates\" => \"High\"\n",
    "\n",
    "- \"^Bachelors\" => \"Bachelors\" => \"High\"\n",
    "\n",
    "- \"^Doctorate\" => \"Doctorate\" => \"High\"\n",
    "\n",
    "- \"^HS-Grad\" => \"HS-Graduate\" => \"High\"\n",
    "\n",
    "- \"^Masters\" => \"Masters\" => \"High\"\n",
    "\n",
    "- \"^Prof-school\" => \"Prof-School\" => \"High\"\n",
    "\n",
    "- \"^Some-college\" => \"HS-Graduate\" => \"High\"\n"
   ]
  },
  {
   "cell_type": "code",
   "execution_count": 8,
   "metadata": {},
   "outputs": [],
   "source": [
    "education = pd.DataFrame({'education_0' : np.sort(pd.unique(data['education']))})\n",
    "\n",
    "education['education_1'] = education['education_0']\n",
    "education['education_1'].where(education['education_1'] != '10th', 'Dropout', inplace=True)\n",
    "education['education_1'].where(education['education_1'] != '11th', 'Dropout', inplace=True)\n",
    "education['education_1'].where(education['education_1'] != '12th', 'Dropout', inplace=True)\n",
    "education['education_1'].where(education['education_1'] != '1st-4th', 'Dropout', inplace=True)\n",
    "education['education_1'].where(education['education_1'] != '5th-6th', 'Dropout', inplace=True)\n",
    "education['education_1'].where(education['education_1'] != '7th-8th', 'Dropout', inplace=True)\n",
    "education['education_1'].where(education['education_1'] != '9th', 'Dropout', inplace=True)\n",
    "education['education_1'].where(education['education_1'] != 'Preschool', 'Dropout', inplace=True)\n",
    "education['education_1'].where(education['education_1'] != 'Assoc-voc', 'Associates', inplace=True)\n",
    "education['education_1'].where(education['education_1'] != 'Assoc-acdm', 'Associates', inplace=True)\n",
    "education['education_1'].where(education['education_1'] != 'HS-grad', 'HS-Graduate', inplace=True)\n",
    "education['education_1'].where(education['education_1'] != 'Some-college', 'HS-Graduate', inplace=True)\n",
    "\n",
    "education['education_2'] = education['education_1']\n",
    "education['education_2'].where(education['education_2'] != 'Dropout', 'Low', inplace=True)\n",
    "education['education_2'].where(education['education_2'] != 'Prof-school', 'High', inplace=True)\n",
    "education['education_2'].where(education['education_2'] != 'Associates', 'High', inplace=True)\n",
    "education['education_2'].where(education['education_2'] != 'Bachelors', 'High', inplace=True)\n",
    "education['education_2'].where(education['education_2'] != 'Masters', 'High', inplace=True)\n",
    "education['education_2'].where(education['education_2'] != 'HS-Graduate', 'High', inplace=True)\n",
    "education['education_2'].where(education['education_2'] != 'Doctorate', 'High', inplace=True)"
   ]
  },
  {
   "cell_type": "markdown",
   "metadata": {},
   "source": [
    "### Domain generalization for Marital status\n",
    "\n",
    "- Widowed => Widowed => Married\n",
    "- Divorced => Not-Married => Not-Married\n",
    "- Married-AF-spouse => Married => Married\n",
    "- Separated => Not-Married => Not-Married\n",
    "- Married-spouse-absent => Not-Married => Not-Married\n",
    "- Married-civ-spouse => Married => Married\n",
    "- Never-married => Never-Married => Not-Married"
   ]
  },
  {
   "cell_type": "code",
   "execution_count": 9,
   "metadata": {},
   "outputs": [],
   "source": [
    "marital_status = pd.DataFrame({'marital_status_0' : np.sort(pd.unique(data['marital_status']))})\n",
    "\n",
    "marital_status['marital_status_1'] = marital_status['marital_status_0']\n",
    "marital_status['marital_status_1'].where(marital_status['marital_status_1'] != 'Divorced', 'Not-Married', inplace=True)\n",
    "marital_status['marital_status_1'].where(marital_status['marital_status_1'] != 'Married-AF-spouse', 'Married', inplace=True)\n",
    "marital_status['marital_status_1'].where(marital_status['marital_status_1'] != 'Separated', 'Not-Married', inplace=True)\n",
    "marital_status['marital_status_1'].where(marital_status['marital_status_1'] != 'Married-spouse-absent', 'Not-Married', inplace=True)\n",
    "marital_status['marital_status_1'].where(marital_status['marital_status_1'] != 'Married-civ-spouse', 'Married', inplace=True)\n",
    "\n",
    "marital_status['marital_status_2'] = marital_status['marital_status_1']\n",
    "marital_status['marital_status_2'].where(marital_status['marital_status_2'] != 'Widowed', 'Married', inplace=True)\n",
    "marital_status['marital_status_2'].where(marital_status['marital_status_2'] != 'Never-married', 'Not-Married', inplace=True)"
   ]
  },
  {
   "cell_type": "markdown",
   "metadata": {},
   "source": [
    "### Domain generalization for Occupation\n",
    "- Adm-clerical => Admin => A\n",
    "- Armed-Forces => Military => A\n",
    "- Craft-repair => Blue-Collar => B\n",
    "- Exec-managerial => White-Collar => A\n",
    "- Farming-fishing => Blue-Collar => B\n",
    "- Handlers-cleaners => Blue-Collar => B\n",
    "- Machine-op-inspct => Blue-Collar => B\n",
    "- Other-service => Service => B\n",
    "- Priv-house-serv => Service => B\n",
    "- Prof-specialty => Other-Occupations => A\n",
    "- Protective-serv => Other-Occupations => A\n",
    "- Sales => Sales => B\n",
    "- Tech-support => Other-Occupations => A\n",
    "- Transport-moving => Other-Occupations => A"
   ]
  },
  {
   "cell_type": "code",
   "execution_count": 10,
   "metadata": {},
   "outputs": [],
   "source": [
    "occupation = pd.DataFrame({'occupation_0' : np.sort(pd.unique(data['occupation']))})\n",
    "\n",
    "occupation['occupation_1'] = occupation['occupation_0']\n",
    "occupation['occupation_1'].where(occupation['occupation_1'] != 'Adm-clerical', 'Admin', inplace=True)\n",
    "occupation['occupation_1'].where(occupation['occupation_1'] != 'Armed-Forces', 'Military', inplace=True)\n",
    "occupation['occupation_1'].where(occupation['occupation_1'] != 'Craft-repair', 'Blue-Collar', inplace=True)\n",
    "occupation['occupation_1'].where(occupation['occupation_1'] != 'Exec-managerial', 'White-Collar', inplace=True)\n",
    "occupation['occupation_1'].where(occupation['occupation_1'] != 'Farming-fishing', 'Blue-Collar', inplace=True)\n",
    "occupation['occupation_1'].where(occupation['occupation_1'] != 'Handlers-cleaners', 'Blue-Collar', inplace=True)\n",
    "occupation['occupation_1'].where(occupation['occupation_1'] != 'Machine-op-inspct', 'Blue-Collar', inplace=True)\n",
    "occupation['occupation_1'].where(occupation['occupation_1'] != 'Other-service', 'Service', inplace=True)\n",
    "occupation['occupation_1'].where(occupation['occupation_1'] != 'Priv-house-serv', 'Service', inplace=True)\n",
    "occupation['occupation_1'].where(occupation['occupation_1'] != 'Prof-specialty', 'Other-Occupations', inplace=True)\n",
    "occupation['occupation_1'].where(occupation['occupation_1'] != 'Protective-serv', 'Other-Occupations', inplace=True)\n",
    "occupation['occupation_1'].where(occupation['occupation_1'] != 'Tech-support', 'Other-Occupations', inplace=True)\n",
    "occupation['occupation_1'].where(occupation['occupation_1'] != 'Transport-moving', 'Other-Occupations', inplace=True)\n",
    "\n",
    "occupation['occupation_2'] = occupation['occupation_1']\n",
    "occupation['occupation_2'].where(occupation['occupation_2'] != 'Military', 'A', inplace=True)\n",
    "occupation['occupation_2'].where(occupation['occupation_2'] != 'Sales', 'B', inplace=True)\n",
    "occupation['occupation_2'].where(occupation['occupation_2'] != 'Admin', 'A', inplace=True)\n",
    "occupation['occupation_2'].where(occupation['occupation_2'] != 'White-Collar', 'A', inplace=True)\n",
    "occupation['occupation_2'].where(occupation['occupation_2'] != 'Other-Occupations', 'A', inplace=True)\n",
    "occupation['occupation_2'].where(occupation['occupation_2'] != 'Service', 'B', inplace=True)\n",
    "occupation['occupation_2'].where(occupation['occupation_2'] != 'Blue-Collar', 'B', inplace=True)"
   ]
  },
  {
   "cell_type": "markdown",
   "metadata": {},
   "source": [
    "### Domain generalization for Race\n",
    "Based on suppression"
   ]
  },
  {
   "cell_type": "code",
   "execution_count": 11,
   "metadata": {},
   "outputs": [],
   "source": [
    "race = pd.DataFrame({'race_0' : np.sort(pd.unique(data['race']))})\n",
    "\n",
    "race['race_1'] = race['race_0']\n",
    "race['race_1'].where(race['race_1'] != race['race_1'], '*', inplace=True)"
   ]
  },
  {
   "cell_type": "markdown",
   "metadata": {},
   "source": [
    "### Domain generalization for Gender\n",
    "\n",
    "Based on suppression"
   ]
  },
  {
   "cell_type": "code",
   "execution_count": 12,
   "metadata": {},
   "outputs": [],
   "source": [
    "gender = pd.DataFrame({'gender_0' : np.sort(pd.unique(data['gender']))})\n",
    "\n",
    "gender['gender_1'] = gender['gender_0']\n",
    "gender['gender_1'].where(gender['gender_1'] != gender['gender_1'], '*', inplace=True)"
   ]
  },
  {
   "cell_type": "markdown",
   "metadata": {},
   "source": [
    "### Domain generalization for Native Country\n",
    "\n",
    "- Cambodia => SE-Asia => Asia\n",
    "- Canada => British-Commonwealth => British-Commonwealth   \n",
    "- China => Asia => Asia\n",
    "- Columbia => South-America => South-America\n",
    "- Cuba => Latin-America => South-America\n",
    "- Dominican-Republic => Latin-America => South-America\n",
    "- Ecuador => South-America => South-America\n",
    "- El-Salvador => South-America => South-America\n",
    "- England => British-Commonwealth => British-Commonwealth\n",
    "- France => Euro_1 => Europe\n",
    "- Germany => Euro_1 => Europe\n",
    "- Greece => Euro_2 => Europe\n",
    "- Guatemala => Latin-America => South-America\n",
    "- Haiti => Latin-America => South-America\n",
    "- Holand-Netherlands => Euro_1 => Europe\n",
    "- Honduras => Latin-America => South-America\n",
    "- Hong => Asia => Asia\n",
    "- Hungary => Euro_2 => Europe\n",
    "- India => British-Commonwealth => British-Commonwealth\n",
    "- Iran => Asia => Asia\n",
    "- Ireland => British-Commonwealth => British-Commonwealth\n",
    "- Italy => Euro_1 => Europe\n",
    "- Jamaica => Latin-America => South-America\n",
    "- Japan => Asia => Asia\n",
    "- Laos => SE-Asia => Asia\n",
    "- Mexico => Latin-America => South-America\n",
    "- Nicaragua => Latin-America => South-America\n",
    "- Outlying-US(Guam-USVI-etc) => Latin-America => South-America\n",
    "- Peru => South-America => South-America\n",
    "- Philippines => SE-Asia => Asia\n",
    "- Poland => Euro_2 => Europe\n",
    "- Portugal => Euro_2 => Europe\n",
    "- Puerto-Rico => Latin-America => South-America\n",
    "- Scotland => British-Commonwealth => British-Commonwealth\n",
    "- South => Euro_2 => Europe\n",
    "- Taiwan => Asia => Asia\n",
    "- Thailand => SE-Asia => Asia\n",
    "- Trinadad&Tobago => Latin-America => South-America\n",
    "- United-States => United-States => United-States\n",
    "- Vietnam => SE-Asia => Asia\n",
    "- Yugoslavia => Euro_2 => Europe"
   ]
  },
  {
   "cell_type": "code",
   "execution_count": 13,
   "metadata": {},
   "outputs": [],
   "source": [
    "native_country = pd.DataFrame({'native_country_0' : np.sort(pd.unique(data['native_country']))})\n",
    "\n",
    "native_country['native_country_1'] = native_country['native_country_0']\n",
    "\n",
    "native_country['native_country_1'].where(native_country['native_country_1'] != 'Cambodia', 'SE-Asia', inplace=True)\n",
    "native_country['native_country_1'].where(native_country['native_country_1'] != 'Canada', 'British-Commonwealth', inplace=True)\n",
    "native_country['native_country_1'].where(native_country['native_country_1'] != 'China', 'Asia', inplace=True)\n",
    "native_country['native_country_1'].where(native_country['native_country_1'] != 'Columbia', 'South-America', inplace=True)\n",
    "native_country['native_country_1'].where(native_country['native_country_1'] != 'Cuba', 'Latin-America', inplace=True)\n",
    "native_country['native_country_1'].where(native_country['native_country_1'] != 'Dominican-Republic', 'Latin-America', inplace=True)\n",
    "native_country['native_country_1'].where(native_country['native_country_1'] != 'Ecuador', 'South-America', inplace=True)\n",
    "native_country['native_country_1'].where(native_country['native_country_1'] != 'El-Salvador', 'South-America', inplace=True)\n",
    "native_country['native_country_1'].where(native_country['native_country_1'] != 'England', 'British-Commonwealth', inplace=True)\n",
    "native_country['native_country_1'].where(native_country['native_country_1'] != 'France', 'Euro_1', inplace=True)\n",
    "native_country['native_country_1'].where(native_country['native_country_1'] != 'Germany', 'Euro_1', inplace=True)\n",
    "native_country['native_country_1'].where(native_country['native_country_1'] != 'Greece', 'Euro_2', inplace=True)\n",
    "native_country['native_country_1'].where(native_country['native_country_1'] != 'Guatemala', 'Latin-America', inplace=True)\n",
    "native_country['native_country_1'].where(native_country['native_country_1'] != 'Haiti', 'Latin-America', inplace=True)\n",
    "native_country['native_country_1'].where(native_country['native_country_1'] != 'Holand-Netherlands', 'Euro_1', inplace=True)\n",
    "native_country['native_country_1'].where(native_country['native_country_1'] != 'Honduras', 'Latin-America', inplace=True)\n",
    "native_country['native_country_1'].where(native_country['native_country_1'] != 'Hong', 'Asia', inplace=True)\n",
    "native_country['native_country_1'].where(native_country['native_country_1'] != 'Hungary', 'Euro_2', inplace=True)\n",
    "native_country['native_country_1'].where(native_country['native_country_1'] != 'India', 'British-Commonwealth', inplace=True)\n",
    "native_country['native_country_1'].where(native_country['native_country_1'] != 'Iran', 'Asia', inplace=True)\n",
    "native_country['native_country_1'].where(native_country['native_country_1'] != 'Ireland', 'British-Commonwealth', inplace=True)\n",
    "native_country['native_country_1'].where(native_country['native_country_1'] != 'Italy', 'Euro_1', inplace=True)\n",
    "native_country['native_country_1'].where(native_country['native_country_1'] != 'Jamaica', 'Latin-America', inplace=True)\n",
    "native_country['native_country_1'].where(native_country['native_country_1'] != 'Japan', 'Asia', inplace=True)\n",
    "native_country['native_country_1'].where(native_country['native_country_1'] != 'Laos', 'SE-Asia', inplace=True)\n",
    "native_country['native_country_1'].where(native_country['native_country_1'] != 'Mexico', 'Latin-America', inplace=True)\n",
    "native_country['native_country_1'].where(native_country['native_country_1'] != 'Nicaragua', 'Latin-America', inplace=True)\n",
    "native_country['native_country_1'].where(native_country['native_country_1'] != 'Outlying-US(Guam-USVI-etc)', 'Latin-America', inplace=True)\n",
    "native_country['native_country_1'].where(native_country['native_country_1'] != 'Peru', 'South-America', inplace=True)\n",
    "native_country['native_country_1'].where(native_country['native_country_1'] != 'Philippines', 'SE-Asia', inplace=True)\n",
    "native_country['native_country_1'].where(native_country['native_country_1'] != 'Poland', 'Euro_2', inplace=True)\n",
    "native_country['native_country_1'].where(native_country['native_country_1'] != 'Portugal', 'Euro_2', inplace=True)\n",
    "native_country['native_country_1'].where(native_country['native_country_1'] != 'Puerto-Rico', 'Latin-America', inplace=True)\n",
    "native_country['native_country_1'].where(native_country['native_country_1'] != 'Scotland', 'British-Commonwealth', inplace=True)\n",
    "native_country['native_country_1'].where(native_country['native_country_1'] != 'South', 'Euro_2', inplace=True)\n",
    "native_country['native_country_1'].where(native_country['native_country_1'] != 'Taiwan', 'Asia', inplace=True)\n",
    "native_country['native_country_1'].where(native_country['native_country_1'] != 'Thailand', 'SE-Asia', inplace=True)\n",
    "native_country['native_country_1'].where(native_country['native_country_1'] != 'Trinadad&Tobago', 'Latin-America', inplace=True)\n",
    "native_country['native_country_1'].where(native_country['native_country_1'] != 'Vietnam', 'SE-Asia', inplace=True)\n",
    "native_country['native_country_1'].where(native_country['native_country_1'] != 'Yugoslavia', 'Euro_2', inplace=True)\n",
    "\n",
    "native_country['native_country_2'] = native_country['native_country_1']\n",
    "native_country['native_country_2'].where(native_country['native_country_2'] != 'Euro_1', 'Europe', inplace=True)\n",
    "native_country['native_country_2'].where(native_country['native_country_2'] != 'Euro_2', 'Europe', inplace=True)\n",
    "native_country['native_country_2'].where(native_country['native_country_2'] != 'SE-Asia', 'Asia', inplace=True)\n",
    "native_country['native_country_2'].where(native_country['native_country_2'] != 'Latin-America', 'South-America', inplace=True)"
   ]
  },
  {
   "cell_type": "markdown",
   "metadata": {},
   "source": [
    "### Domain generalization for Salary\n",
    "\n",
    "Based on suppression"
   ]
  },
  {
   "cell_type": "code",
   "execution_count": 14,
   "metadata": {},
   "outputs": [],
   "source": [
    "salary = pd.DataFrame({'salary_0' : np.sort(pd.unique(data['salary']))})\n",
    "\n",
    "salary['salary_1'] = salary['salary_0']\n",
    "salary['salary_1'].where(salary['salary_1'] != salary['salary_1'], '*', inplace=True)"
   ]
  },
  {
   "cell_type": "markdown",
   "metadata": {},
   "source": [
    "### Domains to array"
   ]
  },
  {
   "cell_type": "code",
   "execution_count": 15,
   "metadata": {
    "scrolled": false
   },
   "outputs": [],
   "source": [
    "dimensions = {}\n",
    "dimensions['age']=age\n",
    "dimensions['workclass'] = workclass\n",
    "dimensions['education']=education\n",
    "dimensions['marital_status']=marital_status\n",
    "dimensions['occupation']=occupation\n",
    "dimensions['race']=race\n",
    "dimensions['gender']=gender\n",
    "dimensions['native_country']=native_country\n",
    "dimensions['salary']=salary\n",
    "#data_concat = data\n",
    "\n",
    "data_concat = pd.DataFrame()\n",
    "for dimension in dimensions:\n",
    "    data_concat = pd.concat([data_concat, dimensions[dimension]], axis=1)"
   ]
  },
  {
   "cell_type": "markdown",
   "metadata": {},
   "source": [
    "### Graph utilities"
   ]
  },
  {
   "cell_type": "markdown",
   "metadata": {},
   "source": [
    "### Graph definition\n",
    "Each node of the graph is a generalization. A node is a tuple of tuples (tuple_1, tuple_2, ..., tuple_n).\n",
    "Each tuple_i is composed as (Attribute_name, Attribute_generalization).\n",
    "Ex. (('Age', 0), ('Sex', 0)) is a generalization with respect to columns age_0, sex_0"
   ]
  },
  {
   "cell_type": "code",
   "execution_count": 16,
   "metadata": {},
   "outputs": [],
   "source": [
    "def generate_graph_0(Q, dimensions):\n",
    "    G = nx.DiGraph()\n",
    "    for dimension_name in Q:\n",
    "        prev = None\n",
    "        height = 0\n",
    "        for _ in dimensions[dimension_name].columns:\n",
    "            l = [(dimension_name, height)]\n",
    "            #Convert the list to tuple to make it hashable\n",
    "            current_node = tuple(l)\n",
    "            \n",
    "            if prev is not None:\n",
    "                #from ((age, 0)) to ((age, 1)), then ((age,1)) to ((age, 2))\n",
    "                G.add_edge(prev, current_node)\n",
    "                \n",
    "            height = height + 1\n",
    "            prev = current_node\n",
    "    \n",
    "    return G"
   ]
  },
  {
   "cell_type": "code",
   "execution_count": 17,
   "metadata": {},
   "outputs": [],
   "source": [
    "def printGraph(G):\n",
    "    labels = {node:str(node) for node in G.nodes()}\n",
    "    print(labels)\n",
    "    nx.draw(G, with_labels=True, labels=labels)\n",
    "    plt.show()\n",
    "            "
   ]
  },
  {
   "cell_type": "markdown",
   "metadata": {},
   "source": [
    "# Incognito algorithm"
   ]
  },
  {
   "cell_type": "code",
   "execution_count": 18,
   "metadata": {},
   "outputs": [],
   "source": [
    "def frequencySet_standard(T, Q):\n",
    "    # Add each name of attribute in T the level _0 since it is level 0 generalization:\n",
    "    #  this way it can easily use the groupby\n",
    "    tmp_columns = T.columns\n",
    "    T.columns = [str(col) + '_0' for col in T.columns]\n",
    "    \n",
    "    fsSet = T.groupby(Q).count().reset_index()\n",
    "    fsSet = fsSet.iloc[:, :(len(Q)+1)]\n",
    "    fsSet.rename({fsSet.columns[(len(Q))] : 'Count'}, axis='columns', inplace=True)\n",
    "    \n",
    "    T.columns = tmp_columns\n",
    "    return fsSet"
   ]
  },
  {
   "cell_type": "code",
   "execution_count": 19,
   "metadata": {},
   "outputs": [],
   "source": [
    "def frequencySet_fromParent(T, Q, generalizations):\n",
    "        \n",
    "    tmpT = T.copy()\n",
    "    \n",
    "    for attribute in Q:\n",
    "        #Extract generalization height from string\n",
    "        attribute_height = int(attribute[len(attribute)-1])\n",
    "        \n",
    "        # If it is not level 0 generalization, join with the corresponding dimension table\n",
    "        # It will never happen that in Q there will be two level of the same domain, i dont need to control it\n",
    "        if not attribute_height == 0:\n",
    "            attribute_name = attribute[:len(attribute)-2]\n",
    "            tmpT = tmpT.set_index(attribute_name+'_'+str(attribute_height-1))\\\n",
    "                .join(generalizations[attribute_name][[attribute_name+'_'+str(attribute_height),\n",
    "                                                      attribute_name+'_'+str(attribute_height-1)]]\\\n",
    "                      .set_index(attribute_name+'_'+str(attribute_height-1))).drop_duplicates()\n",
    "                \n",
    "    fsSet = tmpT.groupby(Q)['Count'].sum().reset_index()\n",
    "    fsSet = fsSet.iloc[:, :(len(Q)+1)]\n",
    "    return fsSet"
   ]
  },
  {
   "cell_type": "code",
   "execution_count": 20,
   "metadata": {},
   "outputs": [],
   "source": [
    "def computeK(frequencySet):\n",
    "    return min(frequencySet['Count'])"
   ]
  },
  {
   "cell_type": "markdown",
   "metadata": {},
   "source": [
    "#### Generate attributes list.  For each attribute, include all its generalizations. \n",
    "Ex. if current node is age_1, we shoud group by age_1, age_2 and age_3 because the latter ones will be needed in next iterations in parentFrequencySet. Of course group by(age_1) has the same number of rows of group by (age_1, age_2, age_3)"
   ]
  },
  {
   "cell_type": "code",
   "execution_count": 21,
   "metadata": {},
   "outputs": [],
   "source": [
    "def getAllAttributesGeneralizations(node, generalizations):\n",
    "    attributesOfNode = list()\n",
    "    for attribute in list(node):\n",
    "            # 0 is the name, 1 is the generalization level\n",
    "            attributeGeneralizaiton = generalizations[attribute[ATTRIBUTE_NAME]]\n",
    "            \n",
    "            for i in range(attribute[ATTRIBUTE_HEIGHT], len(attributeGeneralizaiton.columns)):\n",
    "                attributesOfNode.append(\"{}_{}\".format(attribute[ATTRIBUTE_NAME], i))\n",
    "                \n",
    "    return attributesOfNode"
   ]
  },
  {
   "cell_type": "code",
   "execution_count": 22,
   "metadata": {},
   "outputs": [],
   "source": [
    "def getNodeAttributes(node):\n",
    "    attributesOfNode = list()\n",
    "    for attribute in node:\n",
    "        attributesOfNode.append(\"{}_{}\".format(attribute[ATTRIBUTE_NAME], attribute[ATTRIBUTE_HEIGHT]))\n",
    "    return attributesOfNode"
   ]
  },
  {
   "cell_type": "code",
   "execution_count": 23,
   "metadata": {},
   "outputs": [],
   "source": [
    "def getNodeHeight(node):\n",
    "        height = 0\n",
    "        for nodeAttr in node:\n",
    "            height = height + nodeAttr[ATTRIBUTE_HEIGHT]\n",
    "        return height"
   ]
  },
  {
   "cell_type": "code",
   "execution_count": 24,
   "metadata": {},
   "outputs": [],
   "source": [
    "def incognito_standard (k, T, Q, generalizations):\n",
    "    \n",
    "    queue = pythonQueue.PriorityQueue()\n",
    "    \n",
    "    # Must be initialized outside the for since will be both shared between iterations...\n",
    "    C_i = generate_graph_0(Q, generalizations) # Graph (C_i, E_i) at iteration i\n",
    "    S_i = None\n",
    "    sink = list((node for node, out_degree in C_i.out_degree() if out_degree == 0))[0]\n",
    "    for i in range(0, len(Q)-3):\n",
    "        # It is not a problem if we copy the whole graph instead of copying\n",
    "        #  only the nodes since every time we use S_i we delete nodes, and\n",
    "        #  therefore we also delete edges attached to these nodes\n",
    "        S_i = C_i.copy()\n",
    "        marked = set()\n",
    "        \n",
    "        # Insert all roots node into queue, keeping queue sorted by height\n",
    "        for node in C_i.nodes():\n",
    "            if C_i.in_degree(node) == 0:\n",
    "                height = getNodeHeight(node)\n",
    "                # First parameter is height, second is data\n",
    "                queue.put((height, node))\n",
    "        \n",
    "        while not queue.empty():\n",
    "            height, node = queue.get()\n",
    "            if node not in marked:\n",
    "                attributesOfNode = getNodeAttributes(node)\n",
    "                # if node was initally a root\n",
    "                if C_i.in_degree(node) == 0:\n",
    "                    frequencySet = frequencySet_standard(T, attributesOfNode)\n",
    "                    print(node, \"done\")\n",
    "                else:\n",
    "                    frequencySetParent = S_i.node[node]['parentFrequencySet']\n",
    "                    frequencySet = frequencySet_fromParent(frequencySetParent, attributesOfNode, generalizations)\n",
    "                    print(node, \"done\")\n",
    "                    \n",
    "                actual_k = computeK(frequencySet)\n",
    "                # If T is k-anonymous with respect to attributes of node\n",
    "                if (actual_k >= k):\n",
    "                    # mark all direct generalizations of node\n",
    "                    for generalizationPath in nx.all_simple_paths(S_i, source=node, target=sink):\n",
    "                        for pathNode in generalizationPath:\n",
    "                            marked.add(pathNode)\n",
    "                else:\n",
    "                    # Set childs frequency set to this one\n",
    "                    for child in S_i.out_edges(node):\n",
    "                        S_i.node[child[1]]['parentFrequencySet'] = frequencySet\n",
    "                        height = getNodeHeight(child[1])\n",
    "                        queue.put((height, child[1]))\n",
    "                      \n",
    "                    #print(\"Removed node: {}\".format(node))\n",
    "                    S_i.remove_node(node)\n",
    "                    \n",
    "        #COMPUTE C_i+1\n",
    "    return S_i"
   ]
  },
  {
   "cell_type": "code",
   "execution_count": 25,
   "metadata": {},
   "outputs": [],
   "source": [
    "def incognito_super_root (k, T, Q, generalizations):\n",
    "    \n",
    "    queue = pythonQueue.PriorityQueue()\n",
    "    \n",
    "    # Must be initialized outside the for since will be both shared between iterations...\n",
    "    C_i = generate_graph_0(Q, generalizations) # Graph (C_i, E_i) at iteration i\n",
    "    S_i = None\n",
    "    sink = list((node for node, out_degree in C_i.out_degree() if out_degree == 0))[0]\n",
    "    \n",
    "    for i in range(0, 1):\n",
    "        S_i = C_i.copy()\n",
    "        marked = set()\n",
    "        \n",
    "        #dictionary containing for each generalized node the corresponding frequencySet\n",
    "        rootFrequencySet = {}\n",
    "        #set containing roots\n",
    "        rootSet = set()\n",
    "        \n",
    "        # Insert all roots node into queue, keeping queue sorted by height\n",
    "        for node in C_i.nodes():\n",
    "            if C_i.in_degree(node) == 0:\n",
    "                rootSet.add(node)\n",
    "                height = getNodeHeight(node)\n",
    "                # First parameter is height, second is data\n",
    "                queue.put((height, node))\n",
    "        \n",
    "        # Given a set of roots, try to find if there are common ancestors of some of them and compute freqSet at level 0        \n",
    "        while not queue.empty():\n",
    "            height, node = queue.get()\n",
    "            if node not in marked:\n",
    "                attributesOfNode = getNodeAttributes(node)\n",
    "                # if node was initally a root\n",
    "                if C_i.in_degree(node) == 0:\n",
    "                    frequencySet = frequencySet_standard(T, attributesOfNode)\n",
    "                    print(node, \"done\")\n",
    "                else:\n",
    "                    frequencySetParent = S_i.node[node]['parentFrequencySet']\n",
    "                    frequencySet = frequencySet_fromParent(frequencySetParent, attributesOfNode, generalizations)\n",
    "                actual_k = computeK(frequencySet)\n",
    "                # If T is k-anonymous with respect to attributes of node\n",
    "                if (actual_k >= k):\n",
    "                    # mark all direct generalizations of node\n",
    "                    for generalizationPath in nx.all_simple_paths(S_i, source=node, target=sink):\n",
    "                        for pathNode in generalizationPath:\n",
    "                            marked.add(pathNode)\n",
    "                else:\n",
    "                    # Set childs frequency set to this one\n",
    "                    for child in S_i.out_edges(node):\n",
    "                        S_i.node[child[1]]['parentFrequencySet'] = frequencySet\n",
    "                        height = getNodeHeight(child[1])\n",
    "                        queue.put((height, child[1]))\n",
    "                      \n",
    "                    #print(\"Removed node: {}\".format(node))\n",
    "                    S_i.remove_node(node)\n",
    "                    \n",
    "        #COMPUTE C_i+1\n",
    "    return S_i"
   ]
  },
  {
   "cell_type": "markdown",
   "metadata": {},
   "source": [
    "# Tests\n",
    "\n",
    "Some code to do tests and similar"
   ]
  },
  {
   "cell_type": "markdown",
   "metadata": {},
   "source": [
    "Notes:\n",
    "- il codice e' ok, non mi torna il fatto che come T in input gli passi una tabella che e' la tabella originale con attaccate tutte le possibili generalizzazioni, che in teoria sono in dimensions\n",
    "- relazione fra frequencyset_standard e frequencyset_fromparent non mi convince\n"
   ]
  },
  {
   "cell_type": "code",
   "execution_count": 26,
   "metadata": {
    "scrolled": false
   },
   "outputs": [
    {
     "name": "stdout",
     "output_type": "stream",
     "text": [
      "(('age', 0),) done\n",
      "(('education', 0),) done\n",
      "(('marital_status', 0),) done\n",
      "(('workclass', 0),) done\n",
      "(('age', 1),) done\n",
      "(('education', 1),) done\n",
      "(('marital_status', 1),) done\n",
      "(('workclass', 1),) done\n",
      "(('age', 2),) done\n",
      "(('workclass', 2),) done\n",
      "(('age', 3),) done\n"
     ]
    },
    {
     "data": {
      "text/plain": [
       "<networkx.classes.digraph.DiGraph at 0x7f45e553e2e8>"
      ]
     },
     "execution_count": 26,
     "metadata": {},
     "output_type": "execute_result"
    }
   ],
   "source": [
    "incognito_standard(50, data,['age', 'workclass', 'education', 'marital_status'], dimensions)"
   ]
  },
  {
   "cell_type": "code",
   "execution_count": 38,
   "metadata": {},
   "outputs": [
    {
     "name": "stdout",
     "output_type": "stream",
     "text": [
      "(('age', 0),) done\n",
      "(('education', 0),) done\n",
      "(('marital_status', 0),) done\n",
      "(('workclass', 0),) done\n",
      "(('age', 1),) done\n",
      "(('education', 1),) done\n",
      "(('marital_status', 1),) done\n",
      "(('workclass', 1),) done\n",
      "(('age', 2),) done\n",
      "(('workclass', 2),) done\n",
      "(('age', 3),) done\n",
      "{(('age', 3),): \"(('age', 3),)\", (('education', 1),): \"(('education', 1),)\", (('education', 2),): \"(('education', 2),)\", (('marital_status', 1),): \"(('marital_status', 1),)\", (('marital_status', 2),): \"(('marital_status', 2),)\"}\n"
     ]
    },
    {
     "data": {
      "image/png": "[encoded data removed]",
      "text/plain": [
       "<matplotlib.figure.Figure at 0x7f45e551b4a8>"
      ]
     },
     "metadata": {},
     "output_type": "display_data"
    }
   ],
   "source": [
    "result = incognito_standard(50, data, ['age', 'workclass', 'education', 'marital_status'], dimensions)\n",
    "printGraph(result)"
   ]
  },
  {
   "cell_type": "code",
   "execution_count": 35,
   "metadata": {},
   "outputs": [
    {
     "name": "stdout",
     "output_type": "stream",
     "text": [
      "{(('age', 0),): \"(('age', 0),)\", (('age', 1),): \"(('age', 1),)\", (('age', 2),): \"(('age', 2),)\", (('age', 3),): \"(('age', 3),)\", (('workclass', 0),): \"(('workclass', 0),)\", (('workclass', 1),): \"(('workclass', 1),)\", (('workclass', 2),): \"(('workclass', 2),)\", (('education', 0),): \"(('education', 0),)\", (('education', 1),): \"(('education', 1),)\", (('education', 2),): \"(('education', 2),)\", (('marital_status', 0),): \"(('marital_status', 0),)\", (('marital_status', 1),): \"(('marital_status', 1),)\", (('marital_status', 2),): \"(('marital_status', 2),)\"}\n"
     ]
    },
    {
     "data": {
      "image/png": "[encoded data removed]",
      "text/plain": [
       "<matplotlib.figure.Figure at 0x7f45e55997f0>"
      ]
     },
     "metadata": {},
     "output_type": "display_data"
    }
   ],
   "source": [
    "graph = generate_graph_0( ['age', 'workclass', 'education', 'marital_status'], dimensions)\n",
    "printGraph(graph)"
   ]
  }
 ],
 "metadata": {
  "kernelspec": {
   "display_name": "Python 3",
   "language": "python",
   "name": "python3"
  },
  "language_info": {
   "codemirror_mode": {
    "name": "ipython",
    "version": 3
   },
   "file_extension": ".py",
   "mimetype": "text/x-python",
   "name": "python",
   "nbconvert_exporter": "python",
   "pygments_lexer": "ipython3",
   "version": "3.6.4"
  },
  "pycharm": {
   "stem_cell": {
    "cell_type": "raw",
    "metadata": {
     "collapsed": false
    },
    "source": []
   }
  }
 },
 "nbformat": 4,
 "nbformat_minor": 2
}
